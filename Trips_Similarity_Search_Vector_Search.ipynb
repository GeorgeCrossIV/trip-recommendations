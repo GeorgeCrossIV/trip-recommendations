{
  "cells": [
    {
      "cell_type": "markdown",
      "metadata": {
        "id": "view-in-github",
        "colab_type": "text"
      },
      "source": [
        "<a href=\"https://colab.research.google.com/github/GeorgeCrossIV/trip-recommendations/blob/master/Trips_Similarity_Search_Vector_Search.ipynb\" target=\"_parent\"><img src=\"https://colab.research.google.com/assets/colab-badge.svg\" alt=\"Open In Colab\"/></a>"
      ]
    },
    {
      "cell_type": "markdown",
      "metadata": {
        "id": "YmdWGrw4t5G2"
      },
      "source": [
        "# Trip Recommendations, Similarity Search & Collaborative Filtering"
      ]
    },
    {
      "cell_type": "markdown",
      "metadata": {
        "id": "lXd46ecEt5G7"
      },
      "source": [
        "# Introduction\n",
        "\n",
        "This project is dedicated to developing a trip similarity search feature for travelers using AstraDB and vector embeddings. The goal is to enhance travel recommendations by identifying trips similar to a user's past preferences or trending selections. By leveraging the powerful capabilities of AstraDB's vector database and OpenAI's advanced embedding techniques, we can offer personalized travel suggestions that are both relevant and timely.\n",
        "\n",
        "Adding collaborative filtering to the project is a great way to enhance the recommendation capabilities beyond vector-based similarity searches. Collaborative filtering is a method used in recommender systems to predict a user’s preferences based on the preferences of other users. It works by building a matrix of user preferences (such as ratings or behavioral patterns) and finding similarities between users or items based on that matrix.\n",
        "\n",
        "We will utilize the Kaggle Travel Dataset (argodatathon2019) which provides rich, detailed travel data. Our process will involve several key phases:\n",
        "\n",
        "1. **Vector Embedding Generation**: Convert travel data into meaningful vector embeddings using OpenAI’s models. This step involves preprocessing the data to extract useful features and transforming them into numerical vectors that capture the essence of each trip.\n",
        "\n",
        "2. **AstraDB Setup**: Configure and deploy AstraDB to store and manage these embeddings efficiently. This includes designing a schema that supports quick retrieval and similarity searches within the vector space.\n",
        "\n",
        "3. **Data Insertion**: Populate AstraDB with the preprocessed and embedded travel data.\n",
        "\n",
        "4. **Similarity Search Implementation**: Develop a querying mechanism in AstraDB to identify and suggest trips that are most similar to a user's input or preferred travel profile.\n",
        "\n",
        "5. **Collaborative Filtering Implementation**: Integrate collaborative filtering. The project will leverage both content-based features (from vector embeddings) and user interaction patterns, thus improving the quality and relevance of the travel recommendations\n",
        "\n",
        "6. **Interface and Deployment**: Create a user-friendly interface that allows travelers to find and explore suggested trips, refining the system based on user feedback and interaction patterns. This notebook won't provide the UI.\n",
        "\n",
        "This notebook will guide you through each of these steps, providing code snippets, explanations, and best practices for setting up a robust and scalable trip similarity search system.\n",
        "\n",
        "### Quick Links to the queries\n",
        "- [Go to the Similarity Search Implementation](#similarity_search_implementation)\n",
        "- [Go to the Collaborative Filtering Implementation](#collaborative_filtering_implementation)\n"
      ]
    },
    {
      "cell_type": "markdown",
      "source": [
        "## Prerequisites\n",
        "- Astra DB database with vector enabled (endpoint and token)\n",
        "- Open AI API key\n",
        "- Kaggle API key (username and token)"
      ],
      "metadata": {
        "id": "cicm2hkbcl3f"
      }
    },
    {
      "cell_type": "markdown",
      "metadata": {
        "id": "XvrvUTLvt5G7"
      },
      "source": [
        "## Data Preparation"
      ]
    },
    {
      "cell_type": "code",
      "execution_count": null,
      "metadata": {
        "id": "1jVy3aVe8lsA",
        "colab": {
          "base_uri": "https://localhost:8080/"
        },
        "outputId": "cc542c25-442e-4408-ca5a-1284e3878f13"
      },
      "outputs": [
        {
          "output_type": "stream",
          "name": "stdout",
          "text": [
            "\u001b[2K     \u001b[90m━━━━━━━━━━━━━━━━━━━━━━━━━━━━━━━━━━━━━━━━\u001b[0m \u001b[32m12.1/12.1 MB\u001b[0m \u001b[31m28.4 MB/s\u001b[0m eta \u001b[36m0:00:00\u001b[0m\n",
            "\u001b[2K     \u001b[90m━━━━━━━━━━━━━━━━━━━━━━━━━━━━━━━━━━━━━━━━\u001b[0m \u001b[32m38.6/38.6 MB\u001b[0m \u001b[31m7.0 MB/s\u001b[0m eta \u001b[36m0:00:00\u001b[0m\n",
            "\u001b[2K     \u001b[90m━━━━━━━━━━━━━━━━━━━━━━━━━━━━━━━━━━━━━━━━\u001b[0m \u001b[32m670.2/670.2 MB\u001b[0m \u001b[31m1.3 MB/s\u001b[0m eta \u001b[36m0:00:00\u001b[0m\n",
            "\u001b[2K     \u001b[90m━━━━━━━━━━━━━━━━━━━━━━━━━━━━━━━━━━━━━━━━\u001b[0m \u001b[32m17.3/17.3 MB\u001b[0m \u001b[31m58.0 MB/s\u001b[0m eta \u001b[36m0:00:00\u001b[0m\n",
            "\u001b[2K     \u001b[90m━━━━━━━━━━━━━━━━━━━━━━━━━━━━━━━━━━━━━━━━\u001b[0m \u001b[32m8.9/8.9 MB\u001b[0m \u001b[31m72.6 MB/s\u001b[0m eta \u001b[36m0:00:00\u001b[0m\n",
            "\u001b[2K     \u001b[90m━━━━━━━━━━━━━━━━━━━━━━━━━━━━━━━━━━━━━━━━\u001b[0m \u001b[32m79.7/79.7 kB\u001b[0m \u001b[31m8.8 MB/s\u001b[0m eta \u001b[36m0:00:00\u001b[0m\n",
            "\u001b[?25h  Preparing metadata (setup.py) ... \u001b[?25l\u001b[?25hdone\n",
            "\u001b[2K     \u001b[90m━━━━━━━━━━━━━━━━━━━━━━━━━━━━━━━━━━━━━━━━\u001b[0m \u001b[32m124.0/124.0 kB\u001b[0m \u001b[31m9.2 MB/s\u001b[0m eta \u001b[36m0:00:00\u001b[0m\n",
            "\u001b[2K     \u001b[90m━━━━━━━━━━━━━━━━━━━━━━━━━━━━━━━━━━━━━━━━\u001b[0m \u001b[32m311.2/311.2 kB\u001b[0m \u001b[31m27.8 MB/s\u001b[0m eta \u001b[36m0:00:00\u001b[0m\n",
            "\u001b[2K     \u001b[90m━━━━━━━━━━━━━━━━━━━━━━━━━━━━━━━━━━━━━━━━\u001b[0m \u001b[32m209.8/209.8 MB\u001b[0m \u001b[31m2.4 MB/s\u001b[0m eta \u001b[36m0:00:00\u001b[0m\n",
            "\u001b[2K     \u001b[90m━━━━━━━━━━━━━━━━━━━━━━━━━━━━━━━━━━━━━━━━\u001b[0m \u001b[32m89.2/89.2 MB\u001b[0m \u001b[31m7.9 MB/s\u001b[0m eta \u001b[36m0:00:00\u001b[0m\n",
            "\u001b[?25h  Preparing metadata (setup.py) ... \u001b[?25l\u001b[?25hdone\n",
            "\u001b[2K     \u001b[90m━━━━━━━━━━━━━━━━━━━━━━━━━━━━━━━━━━━━━━━━\u001b[0m \u001b[32m43.1/43.1 kB\u001b[0m \u001b[31m4.6 MB/s\u001b[0m eta \u001b[36m0:00:00\u001b[0m\n",
            "\u001b[2K     \u001b[90m━━━━━━━━━━━━━━━━━━━━━━━━━━━━━━━━━━━━━━━━\u001b[0m \u001b[32m75.6/75.6 kB\u001b[0m \u001b[31m9.2 MB/s\u001b[0m eta \u001b[36m0:00:00\u001b[0m\n",
            "\u001b[2K     \u001b[90m━━━━━━━━━━━━━━━━━━━━━━━━━━━━━━━━━━━━━━━━\u001b[0m \u001b[32m18.9/18.9 MB\u001b[0m \u001b[31m69.4 MB/s\u001b[0m eta \u001b[36m0:00:00\u001b[0m\n",
            "\u001b[2K     \u001b[90m━━━━━━━━━━━━━━━━━━━━━━━━━━━━━━━━━━━━━━━━\u001b[0m \u001b[32m77.9/77.9 kB\u001b[0m \u001b[31m7.0 MB/s\u001b[0m eta \u001b[36m0:00:00\u001b[0m\n",
            "\u001b[2K     \u001b[90m━━━━━━━━━━━━━━━━━━━━━━━━━━━━━━━━━━━━━━━━\u001b[0m \u001b[32m58.3/58.3 kB\u001b[0m \u001b[31m6.6 MB/s\u001b[0m eta \u001b[36m0:00:00\u001b[0m\n",
            "\u001b[2K     \u001b[90m━━━━━━━━━━━━━━━━━━━━━━━━━━━━━━━━━━━━━━━━\u001b[0m \u001b[32m57.5/57.5 kB\u001b[0m \u001b[31m6.8 MB/s\u001b[0m eta \u001b[36m0:00:00\u001b[0m\n",
            "\u001b[?25h  Building wheel for kaggle (setup.py) ... \u001b[?25l\u001b[?25hdone\n",
            "  Building wheel for bson (setup.py) ... \u001b[?25l\u001b[?25hdone\n",
            "\u001b[31mERROR: pip's dependency resolver does not currently take into account all the packages that are installed. This behaviour is the source of the following dependency conflicts.\n",
            "google-colab 1.0.0 requires pandas==2.0.3, but you have pandas 1.5.3 which is incompatible.\n",
            "pandas-stubs 2.0.3.230814 requires numpy>=1.25.0; python_version >= \"3.9\", but you have numpy 1.24.4 which is incompatible.\n",
            "torchaudio 2.2.1+cu121 requires torch==2.2.1, but you have torch 2.1.0 which is incompatible.\n",
            "torchtext 0.17.1 requires torch==2.2.1, but you have torch 2.1.0 which is incompatible.\n",
            "torchvision 0.17.1+cu121 requires torch==2.2.1, but you have torch 2.1.0 which is incompatible.\u001b[0m\u001b[31m\n",
            "\u001b[0m"
          ]
        }
      ],
      "source": [
        "!pip install -qU pandas==1.5.3 scipy torch==2.1.0 numpy==1.24.4 implicit scipy kaggle astrapy openai"
      ]
    },
    {
      "cell_type": "markdown",
      "source": [
        "## Determine how you will enter variables\n",
        "Set use_keys to True to use the Google Colab secrets; otherwise, set use_keys to False to get prompted to enter variable values"
      ],
      "metadata": {
        "id": "IuNM2x8MLXMu"
      }
    },
    {
      "cell_type": "code",
      "source": [
        "# global settings\n",
        "process_data = False  # set to True to reset the data and generate the vectors\n",
        "use_keys = True # set to False if you'd like to be prompted for key variables"
      ],
      "metadata": {
        "id": "LH6Iz6rPG-QX"
      },
      "execution_count": null,
      "outputs": []
    },
    {
      "cell_type": "markdown",
      "metadata": {
        "id": "dG4733cIt5G8"
      },
      "source": [
        "**Import Python Libraries**"
      ]
    },
    {
      "cell_type": "code",
      "execution_count": null,
      "metadata": {
        "id": "emp_MSXZt5G8"
      },
      "outputs": [],
      "source": [
        "# Standard libraries for file operations, time tracking, and secure user input\n",
        "import os\n",
        "import time\n",
        "import getpass\n",
        "\n",
        "# Data handling and numerical operations\n",
        "import numpy as np\n",
        "import pandas as pd\n",
        "import scipy.sparse as sparse\n",
        "\n",
        "# Machine learning and neural network operations\n",
        "import torch\n",
        "from torch import nn\n",
        "from torch.utils.data import DataLoader, Dataset\n",
        "\n",
        "# For working with JSON files and random number generation\n",
        "import json\n",
        "import random\n",
        "\n",
        "# Google Colab specific utilities\n",
        "from google.colab import userdata\n",
        "\n",
        "# External libraries for specific functionalities\n",
        "from openai import OpenAI  # for OpenAI-related operations\n",
        "from astrapy.db import AstraDB, AstraDBCollection  # AstraDB database operations\n",
        "\n",
        "# Utilities for working with compressed files\n",
        "import zipfile\n",
        "\n",
        "import itertools\n",
        "import implicit\n",
        "from implicit import evaluation"
      ]
    },
    {
      "cell_type": "code",
      "source": [
        "# Astra variables\n",
        "token = userdata.get('ASTRA_DB_TOKEN_BASED_PASSWORD')  if use_keys else getpass.getpass(prompt=\"Enter your AstraDB token: \")\n",
        "api_endpoint = userdata.get('ASTRA_DB_API_ENDPOINT') if use_keys else input(\"Enter your AstraDB API endpoint: \")\n",
        "\n",
        "# Vector variables\n",
        "vector_model=\"text-embedding-ada-002\""
      ],
      "metadata": {
        "id": "G9di30W0ckPy"
      },
      "execution_count": null,
      "outputs": []
    },
    {
      "cell_type": "markdown",
      "source": [
        "## Get Kaggle credentials so you can access the Instacart dataset\n",
        "Start by going to your profile after logging into Kaggle. Your profile button is in the top right corner after clicking on your username."
      ],
      "metadata": {
        "id": "nXZWthm5zoqW"
      }
    },
    {
      "cell_type": "code",
      "source": [
        "kaggle_token = userdata.get('kaggle_key') if use_keys else getpass.getpass(\"Enter your kaggle token/key: \")\n",
        "kaggle_username = userdata.get('kaggle_username') if use_keys else input(\"Enter your username: \")"
      ],
      "metadata": {
        "id": "EKrCfPUXcbca"
      },
      "execution_count": null,
      "outputs": []
    },
    {
      "cell_type": "markdown",
      "source": [
        "### Download the Kaggle Travel Dataset (argodatathon2019)"
      ],
      "metadata": {
        "id": "MbO25peE0MCM"
      }
    },
    {
      "cell_type": "code",
      "execution_count": null,
      "metadata": {
        "id": "HZy0lqCT8lsC"
      },
      "outputs": [],
      "source": [
        "# Ensure the directory exists before writing the file\n",
        "os.makedirs('/root/.kaggle', exist_ok=True)\n",
        "os.makedirs('/content/logs', exist_ok=True)\n",
        "\n",
        "with open('/root/.kaggle/kaggle.json', 'w') as fp:\n",
        "    fp.write(json.dumps({\"username\":f\"{kaggle_username}\",\"key\":f\"{kaggle_token}\"}))\n"
      ]
    },
    {
      "cell_type": "code",
      "source": [
        "!chmod 600 /root/.kaggle/kaggle.json\n",
        "!kaggle datasets download -d leomauro/argodatathon2019"
      ],
      "metadata": {
        "colab": {
          "base_uri": "https://localhost:8080/"
        },
        "id": "rT1cTTl29UpN",
        "outputId": "4da4e040-2abb-44bc-ab32-792344be3d76"
      },
      "execution_count": null,
      "outputs": [
        {
          "output_type": "stream",
          "name": "stdout",
          "text": [
            "Dataset URL: https://www.kaggle.com/datasets/leomauro/argodatathon2019\n",
            "License(s): Attribution 4.0 International (CC BY 4.0)\n",
            "Downloading argodatathon2019.zip to /content\n",
            "  0% 0.00/3.00M [00:00<?, ?B/s]\n",
            "100% 3.00M/3.00M [00:00<00:00, 121MB/s]\n"
          ]
        }
      ]
    },
    {
      "cell_type": "markdown",
      "source": [
        "### Extract the downloaded files:"
      ],
      "metadata": {
        "id": "B8n6pnK90cEM"
      }
    },
    {
      "cell_type": "code",
      "source": [
        "zip_path = '/content/argodatathon2019.zip'\n",
        "extract_to_dir = '/content/travel-data'  # Specify the directory to extract to\n",
        "\n",
        "# Ensure the extraction directory exists\n",
        "os.makedirs(extract_to_dir, exist_ok=True)\n",
        "\n",
        "with zipfile.ZipFile(zip_path, 'r') as zip_ref:\n",
        "    zip_ref.extractall(extract_to_dir)\n",
        "\n",
        "print(f'Files extracted to {extract_to_dir}')"
      ],
      "metadata": {
        "colab": {
          "base_uri": "https://localhost:8080/"
        },
        "id": "I_XrDYCg9XJN",
        "outputId": "c2ad0e3a-e571-4285-df42-a42437d5982f"
      },
      "execution_count": null,
      "outputs": [
        {
          "output_type": "stream",
          "name": "stdout",
          "text": [
            "Files extracted to /content/travel-data\n"
          ]
        }
      ]
    },
    {
      "cell_type": "markdown",
      "source": [
        "### Load the files we downloaded and extracted:\n",
        "In this example, the dataset utilized data that focuses on flights and hotels.\n",
        "The dataset has over one thousand users and 250 thousand travels"
      ],
      "metadata": {
        "id": "bNADB5U70izN"
      }
    },
    {
      "cell_type": "code",
      "source": [
        "# load the travel data\n",
        "users = pd.read_csv('/content/travel-data/users.csv')\n",
        "flights = pd.read_csv('/content/travel-data/flights.csv')\n",
        "hotels = pd.read_csv('/content/travel-data/hotels.csv')"
      ],
      "metadata": {
        "id": "hUGKzsU-7fTj"
      },
      "execution_count": null,
      "outputs": []
    },
    {
      "cell_type": "code",
      "source": [
        "# Function to join the dataframes\n",
        "def combine_user_data(users_df, hotels_df, flights_df):\n",
        "    # Merging dataframes as before\n",
        "    user_hotels = pd.merge(users_df, hotels_df, left_on='code', right_on='userCode')\n",
        "    combined_df = pd.merge(user_hotels, flights_df, on=['userCode', 'travelCode'], how='inner')\n",
        "\n",
        "    # renamed the date field for the hotels and flights\n",
        "    combined_df = combined_df.rename(columns={'date_y':'flightDate','date_x':'hotelDate'})\n",
        "\n",
        "    # Sorting by 'userCode', 'travelCode', and 'date' to ensure outgoing flights come first\n",
        "    combined_df_sorted = combined_df.sort_values(by=['userCode', 'travelCode', 'flightDate'])\n",
        "\n",
        "    # Dropping duplicates based on 'userCode' and 'travelCode', keeping the first (which is the outgoing flight)\n",
        "    combined_df_deduped = combined_df_sorted.drop_duplicates(subset=['userCode', 'travelCode'], keep='first')\n",
        "\n",
        "    return combined_df_deduped\n",
        "\n",
        "def get_user_profile_from_row(row):\n",
        "    # Constructing the profile string directly from the row\n",
        "    profile_str = get_user_profile(row['gender'], row['age_group'])\n",
        "    #profile_str = f\"User Profile: gender: {row['gender']}; age_group: {row['age_group']}\"\n",
        "    return profile_str\n",
        "\n",
        "def get_user_profile(gender, age_group):\n",
        "    # Constructing the profile string directly from the row\n",
        "    profile_str = f\"User Profile: gender: {gender}; age_group: {age_group}\"\n",
        "    return profile_str\n",
        "\n",
        "def encode_hotel_price(price):\n",
        "    if price < 100:\n",
        "        return 'Low'\n",
        "    elif 100 <= price < 250:\n",
        "        return 'Medium'\n",
        "    else:  # for prices >= 250\n",
        "        return 'High'\n",
        "\n",
        "def encode_flight_distance(distance_in_miles):\n",
        "    if distance_in_miles < 200:\n",
        "        return 'Short'\n",
        "    elif 200 <= distance_in_miles <= 750:\n",
        "        return 'Medium'\n",
        "    else:  # for distances greater than 750 miles\n",
        "        return 'Long'\n",
        "\n",
        "def encode_flight_price(price):\n",
        "    if price < 200:\n",
        "        return 'Low'\n",
        "    elif 200 <= price <= 750:\n",
        "        return 'Medium'\n",
        "    else:  # for prices greater than $750\n",
        "        return 'High'\n",
        "\n",
        "def create_user_trip_summary(combined_df):\n",
        "    # Prepare a list to hold data for the new dataframe\n",
        "    data = []\n",
        "\n",
        "    # Iterate over each row in the combined dataframe\n",
        "    for index, row in combined_df.iterrows():\n",
        "        # Create the user profile for the current row\n",
        "        profile = get_user_profile_from_row(row)\n",
        "\n",
        "        # Extract necessary information from the current row\n",
        "        user_id = row['user_id']\n",
        "        destination = row['place']\n",
        "        days = row['days']\n",
        "        flight_price = encode_flight_price(row['flightPrice'])  # Assuming this is the flight price in the combined_df\n",
        "        hotel_price = encode_hotel_price(row['hotelPrice'])  # Assuming 'total' is the total hotel price in combined_df\n",
        "        flight_type = row['flightType']\n",
        "        distance = encode_flight_distance(row['distance'])\n",
        "        agency = row['agency']\n",
        "        user_trip = f\"{profile} Destination: {destination} Flight Price: {flight_price} Hotel Price: {hotel_price} Distance: {distance}\"\n",
        "\n",
        "        # Append the extracted information as a new record in the data list\n",
        "        data.append([user_id, user_trip, profile, destination, days, flight_price, hotel_price, flight_type, distance, agency])\n",
        "\n",
        "    # Create a new dataframe with the specified columns and the compiled data\n",
        "    summary_df = pd.DataFrame(data, columns=['user_id', 'user_trip', 'user_profile', 'destination', 'days', 'flight_price', 'hotel_price', 'flight_type', 'distance', 'agency'])\n",
        "\n",
        "    return summary_df\n",
        "\n",
        "def create_user_trip_string_from_row(row):\n",
        "    return f\"{row['user_profile']} Destination: {row['destination']} Flight Price: {row['flight_price']} Hotel Price: {row['hotel_price']} Distance: {row['distance']}\"\n",
        "\n",
        "def create_user_trip_string(gender, age_group, destination, flight_price, hotel_price, distance):\n",
        "    return f\"{get_user_profile(gender, age_group)} Destination: {destination} Flight Price: {flight_price} Hotel Price: {hotel_price} Distance: {distance}\"\n",
        "\n",
        "def populate_age_group(data):\n",
        "    # Define the age bins and corresponding labels for the age groups\n",
        "    bins = [0, 12, 17, 24, 34, 49, 64, float('inf')]\n",
        "    labels = ['Children (0-12)', 'Teenagers (13-17)', 'Young Adults (18-24)',\n",
        "              'Adults (25-34)', 'Middle-Aged Adults (35-49)',\n",
        "              'Pre-Retirement (50-64)', 'Seniors (65+)']\n",
        "\n",
        "    # Use the pd.cut() function to categorize each 'age' value into an 'age_group'\n",
        "    data['age_group'] = pd.cut(data['age'], bins=bins, labels=labels, right=False)\n",
        "\n",
        "    # The function doesn't need to return anything because the DataFrame is modified in place\n",
        "    return data\n",
        "\n",
        "def create_user_products(user_trip_summaries):\n",
        "    # prepare list to hold the user trip strings\n",
        "    data = []\n",
        "\n",
        "    # Iterate over each row in the combined dataframe\n",
        "    for index, row in user_trip_summaries.iterrows():\n",
        "        product_name = create_user_trip_string_from_row(row)\n",
        "        data.append([row['user_id'],product_name])\n",
        "\n",
        "    summary_df = pd.DataFrame(data, columns=['user_id','product_name'])\n",
        "\n",
        "    return summary_df\n",
        "\n",
        "def generate_random_user_trip():\n",
        "    genders = ['Male', 'Female']\n",
        "    age_groups = ['Children (0-12)', 'Teenagers (13-17)', 'Young Adults (18-24)', 'Adults (25-34)', 'Middle-Aged Adults (35-49)', 'Pre-Retirement (50-64)', 'Seniors (65+)']\n",
        "    destinations = ['Paris', 'New York', 'Tokyo', 'Sydney', 'Cape Town']\n",
        "    flight_prices = ['Low', 'Medium', 'High']\n",
        "    hotel_prices = ['Low', 'Medium', 'High']\n",
        "    distances = ['Short', 'Medium', 'Long']\n",
        "\n",
        "    # Randomly select one value from each list\n",
        "    gender = random.choice(genders)\n",
        "    age_group = random.choice(age_groups)\n",
        "    destination = random.choice(destinations)\n",
        "    flight_price = random.choice(flight_prices)\n",
        "    hotel_price = random.choice(hotel_prices)\n",
        "    distance = random.choice(distances)\n",
        "\n",
        "    # Use the create_user_trip_string function to generate the trip description\n",
        "    return create_user_trip_string(gender, age_group, destination, flight_price, hotel_price, distance)\n",
        "\n",
        "def products_bought_by_user_in_the_past(user_id: int, top: int = 10):\n",
        "\n",
        "    selected = data[data.user_id == user_id].sort_values(by=['total_orders'], ascending=False)\n",
        "\n",
        "    selected['product_name'] = selected['product_id'].map(products_lookup.set_index('product_id')['product_name'])\n",
        "    selected = selected[['product_id', 'product_name', 'total_orders']].reset_index(drop=True)\n",
        "    if selected.shape[0] < top:\n",
        "        return selected\n",
        "\n",
        "    return selected[:top]\n",
        "\n",
        "def get_embedding(text, model=vector_model):\n",
        "   text = text.replace(\"\\n\", \" \")\n",
        "   return client.embeddings.create(input = [text], model=model).data[0].embedding"
      ],
      "metadata": {
        "id": "ajtvBKVGi4w4"
      },
      "execution_count": null,
      "outputs": []
    },
    {
      "cell_type": "code",
      "source": [
        "# combine_user_data, populate_age_group, create_user_trip_summary\n",
        "\n",
        "# Step 1: Combine data from users, hotels, and flights into a single DataFrame\n",
        "user_trips = combine_user_data(users, hotels, flights)\n",
        "\n",
        "# Step 2: Rename columns for clarity and consistency\n",
        "user_trips = user_trips.rename(columns={\n",
        "    'code': 'user_id',\n",
        "    'date_x': 'hotelDate',\n",
        "    'date_y': 'flightDate',\n",
        "    'price_y': 'flightPrice',\n",
        "    'total': 'hotelPrice'\n",
        "})\n",
        "\n",
        "# Step 3: Remove duplicates to ensure each trip is represented once per user\n",
        "user_trips = user_trips.drop_duplicates(subset=['userCode', 'travelCode'], keep='first')\n",
        "\n",
        "# Step 4: Categorize users into age groups\n",
        "user_trips = populate_age_group(user_trips)\n",
        "\n",
        "# Step 5: Create detailed trip summaries for each user\n",
        "user_trip_summaries = create_user_trip_summary(user_trips)\n",
        "\n",
        "# Step 6: Preview the first few entries of the transformed data\n",
        "print(user_trip_summaries.head())\n"
      ],
      "metadata": {
        "colab": {
          "base_uri": "https://localhost:8080/"
        },
        "id": "YuEOKyhrHwry",
        "outputId": "96234ec5-1024-4563-bc0e-d11a40932c1e"
      },
      "execution_count": null,
      "outputs": [
        {
          "output_type": "stream",
          "name": "stdout",
          "text": [
            "   user_id                                          user_trip  \\\n",
            "0        0  User Profile: gender: male; age_group: Young A...   \n",
            "1        0  User Profile: gender: male; age_group: Young A...   \n",
            "2        0  User Profile: gender: male; age_group: Young A...   \n",
            "3        0  User Profile: gender: male; age_group: Young A...   \n",
            "4        0  User Profile: gender: male; age_group: Young A...   \n",
            "\n",
            "                                        user_profile         destination  \\\n",
            "0  User Profile: gender: male; age_group: Young A...  Florianopolis (SC)   \n",
            "1  User Profile: gender: male; age_group: Young A...       Salvador (BH)   \n",
            "2  User Profile: gender: male; age_group: Young A...       Salvador (BH)   \n",
            "3  User Profile: gender: male; age_group: Young A...       Salvador (BH)   \n",
            "4  User Profile: gender: male; age_group: Young A...  Florianopolis (SC)   \n",
            "\n",
            "   days flight_price hotel_price flight_type distance       agency  \n",
            "0     4         High        High  firstClass   Medium  FlyingDrops  \n",
            "1     2         High        High  firstClass     Long      CloudFy  \n",
            "2     3         High        High    economic     Long      CloudFy  \n",
            "3     4         High        High     premium   Medium      Rainbow  \n",
            "4     1         High        High  firstClass   Medium  FlyingDrops  \n"
          ]
        }
      ]
    },
    {
      "cell_type": "markdown",
      "source": [
        "## Setup AstraDB collection"
      ],
      "metadata": {
        "id": "KAaNOsrz1Vvx"
      }
    },
    {
      "cell_type": "code",
      "source": [
        "# Initialize AsyncAstraDB\n",
        "astrapy_db = AstraDB(\n",
        "    token=token,\n",
        "    api_endpoint=api_endpoint\n",
        ")"
      ],
      "metadata": {
        "id": "MKVeluy7Evim"
      },
      "execution_count": null,
      "outputs": []
    },
    {
      "cell_type": "code",
      "source": [
        "# set the collection name\n",
        "vector_collection_name = \"user_trips_vector_collection\"\n",
        "vector_factors=1536\n",
        "vector_model=\"text-embedding-ada-002\"\n",
        "cf_collection_name = \"user_trips_collaborative_filtering_collection\"\n",
        "cf_factors=100\n",
        "\n",
        "if (process_data):\n",
        "# delete the collection\n",
        "  astrapy_db.delete_collection(vector_collection_name)\n",
        "  astrapy_db.delete_collection(cf_collection_name)\n",
        "\n",
        "  # create the collection\n",
        "  vector_collection = astrapy_db.create_collection(vector_collection_name,dimension=vector_factors)\n",
        "  cf_collection = astrapy_db.create_collection(cf_collection_name,dimension=cf_factors)\n",
        "else:\n",
        "  # connect to an existing collection\n",
        "  vector_collection = AstraDBCollection(vector_collection_name, astra_db=astrapy_db)\n",
        "  cf_collection = AstraDBCollection(cf_collection_name,astra_db=astrapy_db)"
      ],
      "metadata": {
        "id": "7bwLEhtpE2-P"
      },
      "execution_count": null,
      "outputs": []
    },
    {
      "cell_type": "markdown",
      "metadata": {
        "id": "8BjfHb2Ht5HI"
      },
      "source": [
        "## Load Data for similarity searches"
      ]
    },
    {
      "cell_type": "code",
      "source": [
        "client = OpenAI(api_key=userdata.get('openai_api_key'))"
      ],
      "metadata": {
        "id": "6lsVDMt36I2r"
      },
      "execution_count": null,
      "outputs": []
    },
    {
      "cell_type": "code",
      "source": [
        "user_trip_summaries.shape"
      ],
      "metadata": {
        "id": "SdjgTp7mPv8z",
        "colab": {
          "base_uri": "https://localhost:8080/"
        },
        "outputId": "14138274-8540-4f66-90fd-2461512b397e"
      },
      "execution_count": null,
      "outputs": [
        {
          "output_type": "execute_result",
          "data": {
            "text/plain": [
              "(40552, 10)"
            ]
          },
          "metadata": {},
          "execution_count": 15
        }
      ]
    },
    {
      "cell_type": "code",
      "source": [
        "# embed the user_trips field into a new field named $vector\n",
        "if (process_data):\n",
        "  #user_trip_summaries = user_trip_summaries.head(1000)  # reduce the dataset to the top 1,000 rows\n",
        "  user_trip_list = user_trip_summaries.to_dict(orient='records')\n",
        "  field_name = '$vector'\n",
        "  for record in user_trip_list:\n",
        "      try:\n",
        "          embedding = get_embedding(record['user_trip'])\n",
        "          record['$vector'] = embedding\n",
        "          vector_collection.insert_one(record)\n",
        "      except Exception as e:\n",
        "          # Handle exceptions, such as network errors or API limits\n",
        "          print(f\"An error occurred: {e}\")\n",
        "          # Assign a default value or handle the error as needed\n",
        "          record['$vector'] = None"
      ],
      "metadata": {
        "id": "jj2dkas20gvo"
      },
      "execution_count": null,
      "outputs": []
    },
    {
      "cell_type": "markdown",
      "source": [
        "# Prepare data for Collaborative Filtering\n",
        "In this example, the Collaborative Filtering model utilizes solely the historical preferences of users towards a range of items. Since our dataset lacks explicit ratings, the quantity of purchases can serve as a proxy for \"confidence,\" indicating the strength of interaction between users and products.\n",
        "\n",
        "This data will be stored in a dataframe, forming the foundation for the model."
      ],
      "metadata": {
        "id": "TrLWMHzfIZBx"
      }
    },
    {
      "cell_type": "code",
      "source": [
        "# Add a vector field to each record\n",
        "user_products = create_user_products(user_trip_summaries)\n",
        "user_products.head()\n",
        "# create summary table for user trip products (flights and hotels)\n",
        "travel_products = user_products['product_name'].drop_duplicates().reset_index(drop=True)\n",
        "# Assign a unique product_id to each product\n",
        "travel_products = travel_products.reset_index().rename(columns={'index': 'product_id', 0: 'product'})\n",
        "\n",
        "# Map product to product_id for user_flights\n",
        "data = user_products.merge(travel_products, on='product_name', how='left').drop('product_name', axis=1)\n",
        "#data.head()\n",
        "\n",
        "# create the summary table\n",
        "data = data.groupby(['user_id', 'product_id']).size().reset_index(name='total_orders')\n",
        "data.product_id = data.product_id.astype('int64')\n",
        "\n",
        "# renaming the travel_products table to products_lookup to reduce changing the example code. Travel Trips --> Products\n",
        "products_lookup = travel_products\n",
        "#products_lookup.head()\n",
        "\n",
        "# rename some fields in the user table\n",
        "users = users.rename(columns={'code':'user_id'})\n",
        "users = populate_age_group(users)\n",
        "#users.head()\n",
        "\n",
        "# pring the shape of the products_lookup table\n",
        "print(f\"Unique products (rows,cols): {products_lookup.shape} unique trips (rows,cols): {data.shape}\")"
      ],
      "metadata": {
        "colab": {
          "base_uri": "https://localhost:8080/"
        },
        "id": "FnR6fp8UItnz",
        "outputId": "369cd532-16aa-4ce3-813e-6c4bae3ebc1c"
      },
      "execution_count": null,
      "outputs": [
        {
          "output_type": "stream",
          "name": "stdout",
          "text": [
            "Unique products (rows,cols): (674, 2) unique trips (rows,cols): (18970, 3)\n"
          ]
        }
      ]
    },
    {
      "cell_type": "markdown",
      "source": [
        "Next, we will begin by extracting unique user and item identifiers to facilitate the creation of a CSR (Compressed Sparse Row) matrix.\n",
        "Credit to this snippet goes to [miararoy](https://github.com/pinecone-io/examples/blob/master/learn/recommendation/product-recommender/product_recommender.ipynb)."
      ],
      "metadata": {
        "id": "o5sC5kU0KV17"
      }
    },
    {
      "cell_type": "code",
      "source": [
        "users = list(np.sort(users.user_id.unique()))\n",
        "items = list(np.sort(products_lookup.product_id.unique()))\n",
        "purchases = list(data.total_orders)\n",
        "\n",
        "# create zero-based index position <-> user/item ID mappings\n",
        "index_to_user = pd.Series(users)\n",
        "\n",
        "# create reverse mappings from user/item ID to index positions\n",
        "user_to_index = pd.Series(data=index_to_user.index + 1, index=index_to_user.values)\n",
        "\n",
        "# create zero-based index position <-> item/user ID mappings\n",
        "index_to_item = pd.Series(items)\n",
        "\n",
        "# create reverse mapping from item/user ID to index positions\n",
        "item_to_index = pd.Series(data=index_to_item.index, index=index_to_item.values)\n",
        "\n",
        "# Get the rows and columns for our new matrix\n",
        "products_rows = data.product_id.astype(int)\n",
        "users_cols = data.user_id.astype(int)\n",
        "\n",
        "# Create a sparse matrix for our users and products containing number of purchases\n",
        "sparse_product_user = sparse.csr_matrix((purchases, (products_rows, users_cols)), shape=(len(items) + 1, len(users) + 1))\n",
        "sparse_product_user.data = np.nan_to_num(sparse_product_user.data, copy=False)\n",
        "\n",
        "sparse_user_product = sparse.csr_matrix((purchases, (users_cols, products_rows)), shape=(len(users) + 1, len(items) + 1))\n",
        "sparse_user_product.data = np.nan_to_num(sparse_user_product.data, copy=False)"
      ],
      "metadata": {
        "id": "VlXF4_T8KaFC"
      },
      "execution_count": null,
      "outputs": []
    },
    {
      "cell_type": "markdown",
      "source": [
        "## Implicit Model\n",
        "In this section we will demonstrate creation and training of a recommender model using the **implicit** library. The recommendation model is based off the algorithms described in the paper [Collaborative Filtering for Implicit Feedback Datasets](https://www.researchgate.net/publication/220765111_Collaborative_Filtering_for_Implicit_Feedback_Datasets) with performance optimizations described in [Applications of the Conjugate Gradient Method for Implicit Feedback Collaborative Filtering](https://citeseerx.ist.psu.edu/viewdoc/download?doi=10.1.1.379.6473&rep=rep1&type=pdf)."
      ],
      "metadata": {
        "id": "KbcA9WjRKeV_"
      }
    },
    {
      "cell_type": "code",
      "source": [
        "#split data into train and test sets\n",
        "train_set, test_set = evaluation.train_test_split(sparse_user_product, train_percentage=0.9)\n",
        "\n",
        "factors = 100\n",
        "\n",
        "# initialize a model\n",
        "model = implicit.als.AlternatingLeastSquares(factors=factors,\n",
        "                                             regularization=0.05,\n",
        "                                             iterations=50,\n",
        "                                             num_threads=1)\n",
        "\n",
        "alpha_val = 15\n",
        "train_set = (train_set * alpha_val).astype('double')\n",
        "\n",
        "# train the model on a sparse matrix of item/user/confidence weights\n",
        "model.fit(train_set, show_progress = True)"
      ],
      "metadata": {
        "colab": {
          "base_uri": "https://localhost:8080/",
          "height": 302,
          "referenced_widgets": [
            "64eedd0b48134cb1b65598a9be89652c",
            "b67756e016cc46e280b4e4874cf35405",
            "9ea743d0405943b383750e4e25e15a91",
            "d95b782cc5894ff8a5a2a47cdb23c3a6",
            "6c7c88894ea5464998fc98bcc985b356",
            "6ffacc235c8a49c1b3eb7d2dd1cc4748",
            "a5aa3fa92d814e01b51d36ea78577906",
            "4bee4c94ae634a109af4d6d56e7bc9e6",
            "b2eb75d3ba8547e4b545e87d1f046c9c",
            "1de3948e8714464c9cc467a3ef9acc6f",
            "b7d72d98368440a48acafa64b210b5a2"
          ]
        },
        "id": "mQPLO5wuKlwB",
        "outputId": "119c20dd-0491-48fe-8c9c-9595853a0301"
      },
      "execution_count": null,
      "outputs": [
        {
          "output_type": "stream",
          "name": "stderr",
          "text": [
            "Exception ignored on calling ctypes callback function: <function ThreadpoolController._find_libraries_with_dl_iterate_phdr.<locals>.match_library_callback at 0x7b2a1ef20e50>\n",
            "Traceback (most recent call last):\n",
            "  File \"/usr/local/lib/python3.10/dist-packages/threadpoolctl.py\", line 1014, in match_library_callback\n",
            "    self._make_controller_from_path(filepath)\n",
            "  File \"/usr/local/lib/python3.10/dist-packages/threadpoolctl.py\", line 1184, in _make_controller_from_path\n",
            "    lib_controller = controller_class(\n",
            "  File \"/usr/local/lib/python3.10/dist-packages/threadpoolctl.py\", line 113, in __init__\n",
            "    self.dynlib = ctypes.CDLL(filepath, mode=_RTLD_NOLOAD)\n",
            "  File \"/usr/lib/python3.10/ctypes/__init__.py\", line 374, in __init__\n",
            "    self._handle = _dlopen(self._name, mode)\n",
            "OSError: /usr/local/lib/python3.10/dist-packages/numpy.libs/libopenblas64_p-r0-5007b62f.3.23.dev.so: cannot open shared object file: No such file or directory\n",
            "/usr/local/lib/python3.10/dist-packages/implicit/cpu/als.py:95: RuntimeWarning: OpenBLAS is configured to use 2 threads. It is highly recommended to disable its internal threadpool by setting the environment variable 'OPENBLAS_NUM_THREADS=1' or by calling 'threadpoolctl.threadpool_limits(1, \"blas\")'. Having OpenBLAS use a threadpool can lead to severe performance issues here.\n",
            "  check_blas_config()\n"
          ]
        },
        {
          "output_type": "display_data",
          "data": {
            "text/plain": [
              "  0%|          | 0/50 [00:00<?, ?it/s]"
            ],
            "application/vnd.jupyter.widget-view+json": {
              "version_major": 2,
              "version_minor": 0,
              "model_id": "64eedd0b48134cb1b65598a9be89652c"
            }
          },
          "metadata": {}
        }
      ]
    },
    {
      "cell_type": "code",
      "source": [
        "# We will evaluate the model using the inbuilt library function - May take a few minutes\n",
        "test_set = (test_set * alpha_val).astype('double')\n",
        "evaluation.ranking_metrics_at_k(model, train_set, test_set, K=100,\n",
        "                         show_progress=True, num_threads=1)"
      ],
      "metadata": {
        "colab": {
          "base_uri": "https://localhost:8080/",
          "height": 121,
          "referenced_widgets": [
            "9e977820d35b4e77b9a7dfb2594fb7b3",
            "749cae49f29b4d82925dfa428abae427",
            "9a45eea6c510494b8c15d3d3b859dd09",
            "69468b30fcf54a77b05abc9959768949",
            "7f5bc276100f42c28292b80e350f8357",
            "d641a2421da64bb2a71af77b475533ff",
            "a27b21af6a084b28958c365812221a6d",
            "7a1f99f0669542c185dbe7ef8cffa3af",
            "f2f4869ea05a4b9099dc049078750bc5",
            "d2012ba975364d3eaf6e609b3b9be1ea",
            "dfec748746e1469a9bbd00a6065aba6f"
          ]
        },
        "id": "sw7By-GxLEYI",
        "outputId": "b17b42bd-bc8a-4acc-8590-3d6a4fc0880f"
      },
      "execution_count": null,
      "outputs": [
        {
          "output_type": "display_data",
          "data": {
            "text/plain": [
              "  0%|          | 0/939 [00:00<?, ?it/s]"
            ],
            "application/vnd.jupyter.widget-view+json": {
              "version_major": 2,
              "version_minor": 0,
              "model_id": "9e977820d35b4e77b9a7dfb2594fb7b3"
            }
          },
          "metadata": {}
        },
        {
          "output_type": "execute_result",
          "data": {
            "text/plain": [
              "{'precision': 0.9745395449620802,\n",
              " 'map': 0.4592624231974912,\n",
              " 'ndcg': 0.6059004027778536,\n",
              " 'auc': 0.976092454391791}"
            ]
          },
          "metadata": {},
          "execution_count": 20
        }
      ]
    },
    {
      "cell_type": "markdown",
      "source": [
        "This is what item and user factors look like. These vectors will be stored in our vector index later and used for recommendation."
      ],
      "metadata": {
        "id": "56LFzi8rLYmx"
      }
    },
    {
      "cell_type": "code",
      "source": [
        "model.item_factors[1:3]"
      ],
      "metadata": {
        "id": "N9mT0eiCLPgx",
        "colab": {
          "base_uri": "https://localhost:8080/"
        },
        "outputId": "b79f9976-2758-485b-a309-5ad2aad770fd"
      },
      "execution_count": null,
      "outputs": [
        {
          "output_type": "execute_result",
          "data": {
            "text/plain": [
              "array([[-0.01869054,  0.01624159,  0.01445023, -0.01471141, -0.01752022,\n",
              "        -0.03099159, -0.0045502 ,  0.01801882,  0.01576493,  0.01532222,\n",
              "         0.00287872, -0.00283497, -0.04835457, -0.01986769, -0.00463835,\n",
              "         0.02314002, -0.0124543 ,  0.00029302, -0.01941025,  0.00919497,\n",
              "         0.00468089, -0.00799547,  0.00281197,  0.01179938,  0.00473643,\n",
              "         0.03054055, -0.00940915,  0.00585659,  0.00819855,  0.02541376,\n",
              "        -0.00571563,  0.01245054,  0.01300477, -0.00661199,  0.01853507,\n",
              "        -0.01769906,  0.01168907, -0.01397778,  0.00521798,  0.00477376,\n",
              "         0.02675454,  0.0043005 ,  0.01148617,  0.00259627,  0.00454474,\n",
              "        -0.014676  , -0.00043504, -0.0215588 , -0.0093579 ,  0.00651564,\n",
              "         0.01726513,  0.00127685,  0.00256362, -0.01637328, -0.01024396,\n",
              "         0.01700275,  0.00831247,  0.00215778,  0.00491612, -0.0114581 ,\n",
              "         0.02117233, -0.0243272 , -0.01256597, -0.02053637, -0.01829091,\n",
              "         0.02650644, -0.01280063, -0.00946465, -0.01414886, -0.00594693,\n",
              "         0.00284253,  0.02066048, -0.01116576,  0.00532675,  0.00349103,\n",
              "         0.00705833,  0.01044523, -0.00377177, -0.01244677,  0.0151287 ,\n",
              "        -0.0082555 ,  0.00391957, -0.01025894, -0.00627268, -0.00116934,\n",
              "        -0.01891285, -0.00079861, -0.01076645,  0.00761787, -0.00504349,\n",
              "         0.01418421,  0.00614795, -0.0229034 ,  0.01239938,  0.00422715,\n",
              "        -0.00256309, -0.02989971,  0.00426209, -0.01043112, -0.00451444],\n",
              "       [ 0.01233378,  0.02474309,  0.01053861,  0.02624148, -0.00033638,\n",
              "        -0.03137505,  0.0197527 ,  0.01506207,  0.00957045, -0.01021056,\n",
              "        -0.0094405 ,  0.01299069, -0.04000191, -0.02558202, -0.00784784,\n",
              "         0.00885083, -0.02106097, -0.02974948, -0.02571176,  0.03259256,\n",
              "         0.02183766,  0.02186459,  0.01896422, -0.01094388,  0.0297893 ,\n",
              "        -0.00554492,  0.0006094 , -0.00733769, -0.00064932,  0.03168263,\n",
              "        -0.02771615,  0.00526355,  0.00774508,  0.00898737, -0.02012225,\n",
              "        -0.009458  ,  0.01992557, -0.03807216, -0.01606929,  0.00588044,\n",
              "         0.02330165,  0.00485551,  0.04838387, -0.02196613,  0.02175897,\n",
              "        -0.00273842, -0.00262853, -0.02023342,  0.01169148,  0.06094427,\n",
              "         0.02899151, -0.02906443, -0.01653758,  0.01279667,  0.00888052,\n",
              "        -0.00286794,  0.00939685,  0.00350684,  0.00320856, -0.01414074,\n",
              "         0.01390831, -0.04672973,  0.02905107,  0.01162469, -0.00877399,\n",
              "        -0.03122765, -0.01755544, -0.00813566,  0.01045546, -0.01749054,\n",
              "         0.00982022, -0.01241737,  0.00314908, -0.00884391,  0.01047111,\n",
              "         0.0120499 , -0.00881074,  0.01349818, -0.02299852,  0.04622804,\n",
              "         0.0087283 , -0.02500747,  0.00384985, -0.0083994 ,  0.0159941 ,\n",
              "        -0.02012618,  0.01811481, -0.01096426, -0.00528068,  0.01741029,\n",
              "         0.02668236, -0.03786963,  0.01516778,  0.0310677 ,  0.00909899,\n",
              "         0.02662284, -0.04714003, -0.00344464,  0.0125035 , -0.03970477]],\n",
              "      dtype=float32)"
            ]
          },
          "metadata": {},
          "execution_count": 21
        }
      ]
    },
    {
      "cell_type": "code",
      "source": [
        "model.user_factors[1:3]"
      ],
      "metadata": {
        "id": "Qagp-WZXLToM",
        "colab": {
          "base_uri": "https://localhost:8080/"
        },
        "outputId": "1d5d0242-6534-4d73-a3b4-5d47504d0531"
      },
      "execution_count": null,
      "outputs": [
        {
          "output_type": "execute_result",
          "data": {
            "text/plain": [
              "array([[ 0.18877874, -0.2078289 ,  0.1875522 ,  0.66935563,  0.03368911,\n",
              "        -0.24832201, -0.02690276,  0.18913196,  0.20950755,  0.18112655,\n",
              "         0.22417712,  0.15185118,  0.08453239,  0.32291588, -0.09702265,\n",
              "         0.1488636 , -0.16453679,  0.16499755,  0.1871986 , -0.17420869,\n",
              "         0.27767295, -0.22264476, -0.323834  , -0.04821065, -0.18742846,\n",
              "         0.04331789, -0.15769868, -0.01048369,  0.15476489,  0.14720456,\n",
              "         0.30790466, -0.03473528,  0.27523896, -0.33198532,  0.15769248,\n",
              "        -0.0963456 , -0.36345157,  0.2766423 ,  0.255034  ,  0.29527998,\n",
              "        -0.08704789,  0.10603929,  0.6572821 , -0.21875231,  0.16968183,\n",
              "         0.1364574 ,  0.02857736,  0.00440361, -0.09264286,  0.04441794,\n",
              "         0.2432849 , -0.15182377,  0.02409743, -0.48702347, -0.1244401 ,\n",
              "        -0.42523366,  0.42168048,  0.00580856,  0.15157332,  0.11410328,\n",
              "        -0.15036887,  0.2343768 , -0.3716784 , -0.12161482,  0.39719427,\n",
              "         0.27621576,  0.04035279, -0.16038208, -0.14447783,  0.17483538,\n",
              "         0.1822114 ,  0.18278186,  0.08132883, -0.43566704, -0.24374087,\n",
              "         0.09327239, -0.0832388 , -0.6618325 ,  0.27612007,  0.01617526,\n",
              "        -0.1650692 , -0.29447797, -0.00406019, -0.10641311,  0.31402206,\n",
              "        -0.08229344, -0.02556503,  0.17134722, -0.17297062,  0.18901867,\n",
              "         0.13587862,  0.00293867,  0.3028141 , -0.2732469 ,  0.02839899,\n",
              "        -0.319518  , -0.02766171, -0.23598592,  0.04053561, -0.00817628],\n",
              "       [-0.32594374,  0.14032911,  0.37294176,  0.8225649 ,  1.1018232 ,\n",
              "         1.0812079 ,  0.30235916,  0.15909779,  0.62429833, -0.12955068,\n",
              "         0.5111609 , -0.12406561,  0.21143009,  0.49165484, -0.19359314,\n",
              "        -1.4810047 ,  0.89762515,  0.7142738 , -1.0939456 , -0.05799574,\n",
              "         0.19844319, -0.07278716, -0.15469971,  0.296867  , -0.81960183,\n",
              "         0.5654845 , -1.296393  ,  1.0086355 ,  0.8044801 , -0.43773243,\n",
              "        -2.2684405 ,  0.04714202, -0.83982015,  0.77294123,  0.31789887,\n",
              "         0.54184014,  0.46767747,  0.9236873 ,  0.6690791 ,  0.5176974 ,\n",
              "         0.43892238, -0.79945004,  0.01674851,  0.5003173 , -0.91955125,\n",
              "        -0.82967395, -0.12730649, -1.2798411 , -0.07838265,  0.6396726 ,\n",
              "        -0.36101416, -0.02914257, -0.03204807,  0.24863811, -0.60190743,\n",
              "        -0.21805885,  0.35164407, -0.9245393 ,  0.254726  , -1.4088191 ,\n",
              "         0.85854924, -0.29959866,  0.34348607, -0.20128393, -0.21538268,\n",
              "        -0.12022283, -1.2335085 ,  0.22443432, -1.300868  ,  0.922275  ,\n",
              "        -1.4296709 , -1.1393478 , -0.33231166,  0.05725396,  0.15882805,\n",
              "        -0.77238506,  1.0414872 , -0.10069558,  0.17042275,  0.1327488 ,\n",
              "         0.10515612,  0.5092249 ,  1.1061112 , -0.14586446, -0.25671637,\n",
              "        -0.98068833,  0.33105543,  1.0020254 ,  1.5444107 , -1.0016202 ,\n",
              "         0.9865061 , -0.5727397 ,  0.12225744, -0.10488721,  0.38610083,\n",
              "        -0.25949603,  0.7740786 , -0.18836224,  0.13833128,  0.0551403 ]],\n",
              "      dtype=float32)"
            ]
          },
          "metadata": {},
          "execution_count": 22
        }
      ]
    },
    {
      "cell_type": "code",
      "source": [
        "model.user_factors.shape"
      ],
      "metadata": {
        "colab": {
          "base_uri": "https://localhost:8080/"
        },
        "id": "bKKGye1wLWWl",
        "outputId": "e1c64446-f9ff-4952-eb50-2b68f7fc703e"
      },
      "execution_count": null,
      "outputs": [
        {
          "output_type": "execute_result",
          "data": {
            "text/plain": [
              "(1341, 100)"
            ]
          },
          "metadata": {},
          "execution_count": 23
        }
      ]
    },
    {
      "cell_type": "markdown",
      "source": [
        "# Load data for Collaborative Filtering\n",
        "Uploading all items (products or user_trips that one can buy) and displaying some examples of products and their vector representations."
      ],
      "metadata": {
        "id": "2QZ18m6mOz8p"
      }
    },
    {
      "cell_type": "code",
      "source": [
        "# Get all of the items\n",
        "all_items_titles = [{'title': title} for title in products_lookup['product_name']]\n",
        "all_items_ids = [str(product_id) for product_id in products_lookup['product_id']]\n",
        "\n",
        "# Transform items into factors\n",
        "items_factors = model.item_factors\n",
        "\n",
        "item_embeddings = items_factors[1:].tolist()\n",
        "\n",
        "# Prepare item factors for upload\n",
        "items_to_insert = list(zip(all_items_ids, item_embeddings, all_items_titles))"
      ],
      "metadata": {
        "id": "D40vjYEfO6bu"
      },
      "execution_count": null,
      "outputs": []
    },
    {
      "cell_type": "code",
      "source": [
        "display(items_to_insert[1])"
      ],
      "metadata": {
        "id": "gf-KoQ4PPGDR"
      },
      "execution_count": null,
      "outputs": []
    },
    {
      "cell_type": "code",
      "source": [
        "# Insert records into AstraDB collection\n",
        "if (process_data):\n",
        "  from tqdm.auto import tqdm\n",
        "  # Iterate through the DataFrame and insert each movie\n",
        "  for row in tqdm(items_to_insert):\n",
        "      # Generate a unique ID for each product\n",
        "      item_id = row[0]  # Assuming id is unique and suitable for _id\n",
        "      embedding = row[1]\n",
        "      item_data = row[2] # This is only {'title': '. . .'}), but we can pass the entire object.\n",
        "      try:\n",
        "      # Insert the data into the collection\n",
        "        cf_collection.insert_one({\"_id\": item_id, \"$vector\": embedding, **item_data})\n",
        "      except Exception as e:\n",
        "        print(f\"Exception: {e}\") # We can ignore any 0 vectors."
      ],
      "metadata": {
        "id": "hrsjVi_2PLlH"
      },
      "execution_count": null,
      "outputs": []
    },
    {
      "cell_type": "code",
      "source": [
        "data.head()"
      ],
      "metadata": {
        "colab": {
          "base_uri": "https://localhost:8080/",
          "height": 206
        },
        "id": "hu9mnUYpP3MU",
        "outputId": "769a85b8-9a7b-4c6d-f734-4f3ccde1518c"
      },
      "execution_count": null,
      "outputs": [
        {
          "output_type": "execute_result",
          "data": {
            "text/plain": [
              "   user_id  product_id  total_orders\n",
              "0        0           0             3\n",
              "1        0           1             4\n",
              "2        0           2             3\n",
              "3        0           3             2\n",
              "4        0           4             3"
            ],
            "text/html": [
              "\n",
              "  <div id=\"df-89321252-62f3-4bd5-a51d-54514bc1448e\" class=\"colab-df-container\">\n",
              "    <div>\n",
              "<style scoped>\n",
              "    .dataframe tbody tr th:only-of-type {\n",
              "        vertical-align: middle;\n",
              "    }\n",
              "\n",
              "    .dataframe tbody tr th {\n",
              "        vertical-align: top;\n",
              "    }\n",
              "\n",
              "    .dataframe thead th {\n",
              "        text-align: right;\n",
              "    }\n",
              "</style>\n",
              "<table border=\"1\" class=\"dataframe\">\n",
              "  <thead>\n",
              "    <tr style=\"text-align: right;\">\n",
              "      <th></th>\n",
              "      <th>user_id</th>\n",
              "      <th>product_id</th>\n",
              "      <th>total_orders</th>\n",
              "    </tr>\n",
              "  </thead>\n",
              "  <tbody>\n",
              "    <tr>\n",
              "      <th>0</th>\n",
              "      <td>0</td>\n",
              "      <td>0</td>\n",
              "      <td>3</td>\n",
              "    </tr>\n",
              "    <tr>\n",
              "      <th>1</th>\n",
              "      <td>0</td>\n",
              "      <td>1</td>\n",
              "      <td>4</td>\n",
              "    </tr>\n",
              "    <tr>\n",
              "      <th>2</th>\n",
              "      <td>0</td>\n",
              "      <td>2</td>\n",
              "      <td>3</td>\n",
              "    </tr>\n",
              "    <tr>\n",
              "      <th>3</th>\n",
              "      <td>0</td>\n",
              "      <td>3</td>\n",
              "      <td>2</td>\n",
              "    </tr>\n",
              "    <tr>\n",
              "      <th>4</th>\n",
              "      <td>0</td>\n",
              "      <td>4</td>\n",
              "      <td>3</td>\n",
              "    </tr>\n",
              "  </tbody>\n",
              "</table>\n",
              "</div>\n",
              "    <div class=\"colab-df-buttons\">\n",
              "\n",
              "  <div class=\"colab-df-container\">\n",
              "    <button class=\"colab-df-convert\" onclick=\"convertToInteractive('df-89321252-62f3-4bd5-a51d-54514bc1448e')\"\n",
              "            title=\"Convert this dataframe to an interactive table.\"\n",
              "            style=\"display:none;\">\n",
              "\n",
              "  <svg xmlns=\"http://www.w3.org/2000/svg\" height=\"24px\" viewBox=\"0 -960 960 960\">\n",
              "    <path d=\"M120-120v-720h720v720H120Zm60-500h600v-160H180v160Zm220 220h160v-160H400v160Zm0 220h160v-160H400v160ZM180-400h160v-160H180v160Zm440 0h160v-160H620v160ZM180-180h160v-160H180v160Zm440 0h160v-160H620v160Z\"/>\n",
              "  </svg>\n",
              "    </button>\n",
              "\n",
              "  <style>\n",
              "    .colab-df-container {\n",
              "      display:flex;\n",
              "      gap: 12px;\n",
              "    }\n",
              "\n",
              "    .colab-df-convert {\n",
              "      background-color: #E8F0FE;\n",
              "      border: none;\n",
              "      border-radius: 50%;\n",
              "      cursor: pointer;\n",
              "      display: none;\n",
              "      fill: #1967D2;\n",
              "      height: 32px;\n",
              "      padding: 0 0 0 0;\n",
              "      width: 32px;\n",
              "    }\n",
              "\n",
              "    .colab-df-convert:hover {\n",
              "      background-color: #E2EBFA;\n",
              "      box-shadow: 0px 1px 2px rgba(60, 64, 67, 0.3), 0px 1px 3px 1px rgba(60, 64, 67, 0.15);\n",
              "      fill: #174EA6;\n",
              "    }\n",
              "\n",
              "    .colab-df-buttons div {\n",
              "      margin-bottom: 4px;\n",
              "    }\n",
              "\n",
              "    [theme=dark] .colab-df-convert {\n",
              "      background-color: #3B4455;\n",
              "      fill: #D2E3FC;\n",
              "    }\n",
              "\n",
              "    [theme=dark] .colab-df-convert:hover {\n",
              "      background-color: #434B5C;\n",
              "      box-shadow: 0px 1px 3px 1px rgba(0, 0, 0, 0.15);\n",
              "      filter: drop-shadow(0px 1px 2px rgba(0, 0, 0, 0.3));\n",
              "      fill: #FFFFFF;\n",
              "    }\n",
              "  </style>\n",
              "\n",
              "    <script>\n",
              "      const buttonEl =\n",
              "        document.querySelector('#df-89321252-62f3-4bd5-a51d-54514bc1448e button.colab-df-convert');\n",
              "      buttonEl.style.display =\n",
              "        google.colab.kernel.accessAllowed ? 'block' : 'none';\n",
              "\n",
              "      async function convertToInteractive(key) {\n",
              "        const element = document.querySelector('#df-89321252-62f3-4bd5-a51d-54514bc1448e');\n",
              "        const dataTable =\n",
              "          await google.colab.kernel.invokeFunction('convertToInteractive',\n",
              "                                                    [key], {});\n",
              "        if (!dataTable) return;\n",
              "\n",
              "        const docLinkHtml = 'Like what you see? Visit the ' +\n",
              "          '<a target=\"_blank\" href=https://colab.research.google.com/notebooks/data_table.ipynb>data table notebook</a>'\n",
              "          + ' to learn more about interactive tables.';\n",
              "        element.innerHTML = '';\n",
              "        dataTable['output_type'] = 'display_data';\n",
              "        await google.colab.output.renderOutput(dataTable, element);\n",
              "        const docLink = document.createElement('div');\n",
              "        docLink.innerHTML = docLinkHtml;\n",
              "        element.appendChild(docLink);\n",
              "      }\n",
              "    </script>\n",
              "  </div>\n",
              "\n",
              "\n",
              "<div id=\"df-11d8cb6c-1c58-4065-ad84-2b6412ded873\">\n",
              "  <button class=\"colab-df-quickchart\" onclick=\"quickchart('df-11d8cb6c-1c58-4065-ad84-2b6412ded873')\"\n",
              "            title=\"Suggest charts\"\n",
              "            style=\"display:none;\">\n",
              "\n",
              "<svg xmlns=\"http://www.w3.org/2000/svg\" height=\"24px\"viewBox=\"0 0 24 24\"\n",
              "     width=\"24px\">\n",
              "    <g>\n",
              "        <path d=\"M19 3H5c-1.1 0-2 .9-2 2v14c0 1.1.9 2 2 2h14c1.1 0 2-.9 2-2V5c0-1.1-.9-2-2-2zM9 17H7v-7h2v7zm4 0h-2V7h2v10zm4 0h-2v-4h2v4z\"/>\n",
              "    </g>\n",
              "</svg>\n",
              "  </button>\n",
              "\n",
              "<style>\n",
              "  .colab-df-quickchart {\n",
              "      --bg-color: #E8F0FE;\n",
              "      --fill-color: #1967D2;\n",
              "      --hover-bg-color: #E2EBFA;\n",
              "      --hover-fill-color: #174EA6;\n",
              "      --disabled-fill-color: #AAA;\n",
              "      --disabled-bg-color: #DDD;\n",
              "  }\n",
              "\n",
              "  [theme=dark] .colab-df-quickchart {\n",
              "      --bg-color: #3B4455;\n",
              "      --fill-color: #D2E3FC;\n",
              "      --hover-bg-color: #434B5C;\n",
              "      --hover-fill-color: #FFFFFF;\n",
              "      --disabled-bg-color: #3B4455;\n",
              "      --disabled-fill-color: #666;\n",
              "  }\n",
              "\n",
              "  .colab-df-quickchart {\n",
              "    background-color: var(--bg-color);\n",
              "    border: none;\n",
              "    border-radius: 50%;\n",
              "    cursor: pointer;\n",
              "    display: none;\n",
              "    fill: var(--fill-color);\n",
              "    height: 32px;\n",
              "    padding: 0;\n",
              "    width: 32px;\n",
              "  }\n",
              "\n",
              "  .colab-df-quickchart:hover {\n",
              "    background-color: var(--hover-bg-color);\n",
              "    box-shadow: 0 1px 2px rgba(60, 64, 67, 0.3), 0 1px 3px 1px rgba(60, 64, 67, 0.15);\n",
              "    fill: var(--button-hover-fill-color);\n",
              "  }\n",
              "\n",
              "  .colab-df-quickchart-complete:disabled,\n",
              "  .colab-df-quickchart-complete:disabled:hover {\n",
              "    background-color: var(--disabled-bg-color);\n",
              "    fill: var(--disabled-fill-color);\n",
              "    box-shadow: none;\n",
              "  }\n",
              "\n",
              "  .colab-df-spinner {\n",
              "    border: 2px solid var(--fill-color);\n",
              "    border-color: transparent;\n",
              "    border-bottom-color: var(--fill-color);\n",
              "    animation:\n",
              "      spin 1s steps(1) infinite;\n",
              "  }\n",
              "\n",
              "  @keyframes spin {\n",
              "    0% {\n",
              "      border-color: transparent;\n",
              "      border-bottom-color: var(--fill-color);\n",
              "      border-left-color: var(--fill-color);\n",
              "    }\n",
              "    20% {\n",
              "      border-color: transparent;\n",
              "      border-left-color: var(--fill-color);\n",
              "      border-top-color: var(--fill-color);\n",
              "    }\n",
              "    30% {\n",
              "      border-color: transparent;\n",
              "      border-left-color: var(--fill-color);\n",
              "      border-top-color: var(--fill-color);\n",
              "      border-right-color: var(--fill-color);\n",
              "    }\n",
              "    40% {\n",
              "      border-color: transparent;\n",
              "      border-right-color: var(--fill-color);\n",
              "      border-top-color: var(--fill-color);\n",
              "    }\n",
              "    60% {\n",
              "      border-color: transparent;\n",
              "      border-right-color: var(--fill-color);\n",
              "    }\n",
              "    80% {\n",
              "      border-color: transparent;\n",
              "      border-right-color: var(--fill-color);\n",
              "      border-bottom-color: var(--fill-color);\n",
              "    }\n",
              "    90% {\n",
              "      border-color: transparent;\n",
              "      border-bottom-color: var(--fill-color);\n",
              "    }\n",
              "  }\n",
              "</style>\n",
              "\n",
              "  <script>\n",
              "    async function quickchart(key) {\n",
              "      const quickchartButtonEl =\n",
              "        document.querySelector('#' + key + ' button');\n",
              "      quickchartButtonEl.disabled = true;  // To prevent multiple clicks.\n",
              "      quickchartButtonEl.classList.add('colab-df-spinner');\n",
              "      try {\n",
              "        const charts = await google.colab.kernel.invokeFunction(\n",
              "            'suggestCharts', [key], {});\n",
              "      } catch (error) {\n",
              "        console.error('Error during call to suggestCharts:', error);\n",
              "      }\n",
              "      quickchartButtonEl.classList.remove('colab-df-spinner');\n",
              "      quickchartButtonEl.classList.add('colab-df-quickchart-complete');\n",
              "    }\n",
              "    (() => {\n",
              "      let quickchartButtonEl =\n",
              "        document.querySelector('#df-11d8cb6c-1c58-4065-ad84-2b6412ded873 button');\n",
              "      quickchartButtonEl.style.display =\n",
              "        google.colab.kernel.accessAllowed ? 'block' : 'none';\n",
              "    })();\n",
              "  </script>\n",
              "</div>\n",
              "    </div>\n",
              "  </div>\n"
            ],
            "application/vnd.google.colaboratory.intrinsic+json": {
              "type": "dataframe",
              "variable_name": "data",
              "summary": "{\n  \"name\": \"data\",\n  \"rows\": 18970,\n  \"fields\": [\n    {\n      \"column\": \"user_id\",\n      \"properties\": {\n        \"dtype\": \"number\",\n        \"std\": 388,\n        \"min\": 0,\n        \"max\": 1339,\n        \"num_unique_values\": 1310,\n        \"samples\": [\n          716,\n          1018,\n          355\n        ],\n        \"semantic_type\": \"\",\n        \"description\": \"\"\n      }\n    },\n    {\n      \"column\": \"product_id\",\n      \"properties\": {\n        \"dtype\": \"number\",\n        \"std\": 171,\n        \"min\": 0,\n        \"max\": 673,\n        \"num_unique_values\": 674,\n        \"samples\": [\n          608,\n          302,\n          621\n        ],\n        \"semantic_type\": \"\",\n        \"description\": \"\"\n      }\n    },\n    {\n      \"column\": \"total_orders\",\n      \"properties\": {\n        \"dtype\": \"number\",\n        \"std\": 1,\n        \"min\": 1,\n        \"max\": 15,\n        \"num_unique_values\": 14,\n        \"samples\": [\n          9,\n          12,\n          3\n        ],\n        \"semantic_type\": \"\",\n        \"description\": \"\"\n      }\n    }\n  ]\n}"
            }
          },
          "metadata": {},
          "execution_count": 27
        }
      ]
    },
    {
      "cell_type": "markdown",
      "source": [
        "<a name=\"similarity_search_implementation\"></a>\n",
        "# Similarity Search Implementation\n",
        "\n",
        "This section of the notebook demonstrates the core functionality of our trip similarity search system. By leveraging the vector database capabilities of AstraDB and the computational power of vector embeddings, we will showcase various scenarios that illustrate how this system can be applied to real-world travel recommendation tasks.\n",
        "\n",
        "We will explore several practical examples that highlight the flexibility and effectiveness of our approach:\n",
        "1. **Retrieve a User Profile**: Fetching user data based on a unique identifier (Profile ID).\n",
        "2. **Profile Search by Attributes**: Searching for profiles using key factors such as gender, age group, trip destination, and price preferences.\n",
        "3. **Similar Trips from Attributes**: Finding trips that align with a set of randomly generated user trip attributes.\n",
        "4. **Natural Language Search**: Utilizing natural language descriptions to find trips that match user preferences described in plain English.\n",
        "\n",
        "Each example will be supported by detailed explanations and Python code snippets, demonstrating the querying capabilities and how they can be used to enhance user experience by providing personalized travel recommendations.\n"
      ],
      "metadata": {
        "id": "zqT8y3gKDA4v"
      }
    },
    {
      "cell_type": "code",
      "source": [
        "# Find a user's profile based on a user trip (Traditional search or filtering method)\n",
        "document = vector_collection.find_one(filter={\"user_trip\":\"User Profile: gender: female; age_group: Middle-Aged Adults (35-49) Destination: Rio de Janeiro (RJ) Flight Price: Medium Hotel Price: Medium Distance: Medium\"})\n",
        "print(document)"
      ],
      "metadata": {
        "colab": {
          "base_uri": "https://localhost:8080/"
        },
        "id": "ClNaVipVAJk5",
        "outputId": "61980bcd-d485-4150-b3a4-b57f6f724540"
      },
      "execution_count": null,
      "outputs": [
        {
          "output_type": "stream",
          "name": "stdout",
          "text": [
            "{'data': {'document': {'_id': '5f90d8ca-bfd8-4b81-90d8-cabfd82b81ec', 'user_id': 2, 'user_trip': 'User Profile: gender: female; age_group: Middle-Aged Adults (35-49) Destination: Rio de Janeiro (RJ) Flight Price: Medium Hotel Price: Medium Distance: Medium', 'user_profile': 'User Profile: gender: female; age_group: Middle-Aged Adults (35-49)', 'destination': 'Rio de Janeiro (RJ)', 'days': 1, 'flight_price': 'Medium', 'hotel_price': 'Medium', 'flight_type': 'economic', 'distance': 'Medium', 'agency': 'CloudFy', '$vector': [-0.012503329664468765, 0.002725820289924741, -0.020294280722737312, -0.009823080152273178, -0.003341872710734606, 0.002081075217574835, -0.02666746824979782, -0.022333160042762756, -0.02123945765197277, -0.013212211430072784, -0.013988606631755829, 0.006585851777344942, -0.012894902378320694, -0.01725621521472931, -0.00038608754402957857, 0.0005742788780480623, 0.014987792819738388, -0.018039360642433167, 0.012003736570477486, -0.01304342970252037, -0.01728321984410286, 0.018066365271806717, 0.00351402978412807, -0.014380179345607758, -0.02389945276081562, 0.0053301178850233555, 0.011058560572564602, -0.01633804477751255, 0.02179306000471115, -0.0019848698284476995, 0.015595405362546444, 0.00011255612480454147, -0.01799885369837284, -0.03923831135034561, -0.022535698488354683, 0.008763132616877556, -0.013867083936929703, 0.00623816205188632, 0.019727176055312157, 0.005016184411942959, 0.011504143476486206, 0.007048313040286303, -0.0018954155966639519, 0.018822506070137024, -0.009066939353942871, 0.021225955337285995, 0.012982668355107307, -0.013907590880990028, -0.01290840469300747, 0.009012929163873196, -0.012712618336081505, 0.03451243042945862, -0.025411734357476234, 0.00013207148003857583, -0.006336055230349302, -0.01462322473526001, 0.003939358983188868, 0.018039360642433167, -0.0011485577560961246, -0.022724734619259834, 0.0064778318628668785, -0.019457124173641205, -0.035349585115909576, 0.012624852359294891, -0.013401246629655361, -0.012071249075233936, -0.007763946428894997, 0.02379143238067627, 0.022940773516893387, 0.003922480624169111, 0.004330931697040796, 0.012550588697195053, 0.005299737211316824, 0.003387443721294403, 0.025168688967823982, -0.02265722118318081, -0.012935410253703594, -0.004445703234523535, -0.005630549043416977, -0.007784200366586447, 0.026964522898197174, -0.01731022447347641, -0.017539767548441887, -0.019295094534754753, 0.015095812268555164, 0.03137984499335289, -0.01067373901605606, 0.025330718606710434, -0.011618915013968945, -0.0006443231832236052, 0.02276524156332016, 0.0007962264935486019, -0.006001868285238743, 0.020834380760788918, -0.011301605962216854, -0.013556526042521, -0.004351185634732246, 0.00470900209620595, -0.017580274492502213, -0.004114891868084669, 0.0031511494889855385, 0.02179306000471115, -0.0023308717645704746, -0.012874648906290531, -0.04804195091128349, 0.002786581637337804, -0.037726029753685, -0.01794484257698059, 0.035187557339668274, -0.015311853028833866, 0.004344434477388859, -0.0017603904707357287, 0.011112570762634277, -0.011227341368794441, -0.03807709366083145, -0.0009620542405173182, 0.02007823996245861, 0.02160402573645115, 0.003861719509586692, -0.031055785715579987, 0.008263539522886276, 0.01936260797083378, 0.018187887966632843, -0.011038306169211864, 0.016635099425911903, 0.00914120301604271, -0.0031511494889855385, -0.03659181669354439, 0.016932154074311256, 0.0015485697658732533, 0.006828897166997194, 0.0014430813025683165, -0.004084511194378138, 0.015946470201015472, -0.0269510205835104, 0.023102805018424988, -0.014866270124912262, -0.0162300243973732, -0.017904335632920265, -0.010099881328642368, 0.0021975343115627766, 0.014447691850364208, -0.038347143679857254, -0.0021705294493585825, -0.0011840017978101969, 0.012631603516638279, 0.029624519869685173, -0.025992343202233315, 0.022333160042762756, -0.0025317217223346233, -0.00012785194849129766, -0.014852766878902912, 0.03362126275897026, 0.01519033033400774, -0.0016211457550525665, 0.014245154336094856, 0.02157701924443245, 0.031109796836972237, -0.0024658970069140196, -0.0033688775729388, -0.009424756281077862, 0.033216189593076706, 0.006801892071962357, 0.004941920749843121, 0.005434762686491013, 0.006947044283151627, 0.0060288733802735806, 0.021198948845267296, 0.011045057326555252, 0.004945296328514814, -0.010781758464872837, 7.94855150161311e-05, -0.011618915013968945, 0.0055596609599888325, 0.026518940925598145, 0.029786549508571625, -0.025708789005875587, -0.029786549508571625, -0.01589246094226837, -0.006595978979021311, -0.028598327189683914, -0.012712618336081505, 0.0059242285788059235, 0.008857650682330132, -0.0032844869419932365, -0.00581620866432786, 0.021414989605545998, -0.008439072407782078, 0.00533686950802803, -0.027545131742954254, 0.009404501877725124, 0.03156888112425804, 0.025911327451467514, -0.007190089672803879, -0.6450961828231812, -0.008769883774220943, -0.013462007977068424, 0.01319870911538601, 0.022832753136754036, 0.011220590211451054, 0.009255974553525448, 0.04412622004747391, -0.007905722595751286, -0.003262545447796583, -0.010113384574651718, 0.039616379886865616, -0.015662917867302895, 0.0032996772788465023, -0.007203591987490654, -0.009343740530312061, -0.0045570991933345795, 0.009519273415207863, -0.012577593326568604, -0.004641489591449499, -0.013313480652868748, 0.008472828194499016, -0.005097199697047472, 0.025992343202233315, 0.0057824524119496346, 0.001213538576848805, 0.017148194834589958, -0.023629402741789818, 0.00556641211733222, 0.0029773046262562275, -0.001356158871203661, 0.03143385797739029, 0.025357725098729134, -0.0022346663754433393, 0.043856170028448105, -0.025654779747128487, 0.004239790141582489, 0.015244340524077415, -0.0032963017001748085, 0.02348087541759014, -0.018822506070137024, 0.019187074154615402, -0.0022734859958291054, -0.021928085014224052, 0.011801199056208134, -0.0010388498194515705, 0.005789203569293022, -0.0016726241447031498, 0.01525784283876419, -0.017242712900042534, -0.007061815820634365, 0.0011063623242080212, -0.013988606631755829, -0.011598660610616207, -0.013218962587416172, -0.005174838937819004, 0.02113143727183342, -0.01276662852615118, 0.00014293678395915776, -0.0073183635249733925, -0.014569214545190334, -0.004837276414036751, -0.02650543861091137, -0.0026296149007976055, -0.004357936792075634, 0.019295094534754753, -0.016554083675146103, 0.0021502755116671324, 0.007689682766795158, -0.03888724371790886, 0.013509267009794712, 0.0243990458548069, -0.013509267009794712, 0.013104191049933434, 0.021928085014224052, 0.022036105394363403, 0.02345386892557144, -0.003777328645810485, -0.04201982915401459, -0.012213025242090225, 0.010950540192425251, 0.017904335632920265, 0.008769883774220943, 0.008236534893512726, 0.0008810391300357878, -0.03154187649488449, -0.005036438349634409, -0.01224003080278635, 0.00759516516700387, -0.013036678545176983, 0.01412363164126873, 0.03977841138839722, -0.013705053366720676, 0.0019595525227487087, 0.002313993638381362, 0.0013536271871998906, -0.006457577925175428, -0.009080441668629646, 0.009789323434233665, -0.024385543540120125, -0.009350491687655449, -0.014137133955955505, 0.020348291844129562, -0.0001006886814138852, 0.001757014892064035, 0.017269717529416084, -0.03370228037238121, 0.015068807639181614, -0.0033486238680779934, 0.007142830640077591, 0.0034836491104215384, -0.006076131947338581, -0.0012186020612716675, -0.007946230471134186, -0.033135171979665756, -0.027734167873859406, 0.008607854135334492, -0.002585731679573655, 0.02658645249903202, -0.024101991206407547, 0.0003394616942387074, 0.006953795440495014, 0.00043714395724236965, -0.010005364194512367, 0.006494710221886635, 0.02234666422009468, 0.0109235355630517, 0.014272158965468407, 0.008243286050856113, -0.022495191544294357, 0.013401246629655361, 0.008830645121634007, 0.0062145330011844635, -0.011038306169211864, 0.019619155675172806, 0.003969739656895399, 0.0036929380148649216, -0.010369932278990746, 0.027518127113580704, -0.031055785715579987, -0.034053344279527664, -0.010471200570464134, 0.002180656185373664, -0.03210898116230965, 0.0033925070893019438, -0.042965006083250046, -0.012942161411046982, 0.004185779951512814, -0.021414989605545998, 0.011031555011868477, 0.0017536391969770193, -0.013853580690920353, -0.017013169825077057, 0.024047980085015297, -0.03232502192258835, -0.02015925571322441, 0.010714245960116386, -0.018876517191529274, -0.011402874253690243, -0.005633924622088671, 0.012550588697195053, 0.011402874253690243, -0.007615418639034033, -0.01999722607433796, -0.0010439131874591112, -0.01510931458324194, -0.027653152123093605, 0.0065622227266430855, 0.01323921699076891, -0.022144125774502754, 0.004945296328514814, -0.016013983637094498, -0.0009266101405955851, -0.0020709482487291098, -0.008020494133234024, -1.7352842405671254e-05, -0.007115825545042753, 0.017067179083824158, -0.0010236594825983047, -0.018066365271806717, 0.005596792791038752, 1.4010178119860939e-06, -0.012044243514537811, 0.007905722595751286, 0.029651524499058723, 0.011045057326555252, 0.013462007977068424, 0.017647787928581238, -0.01199023425579071, 0.038347143679857254, -0.028787363320589066, 0.028706347569823265, -0.025965336710214615, 0.007109074387699366, 0.003262545447796583, -0.0008666927460581064, 0.03167690336704254, -0.009559781290590763, -0.005350371822714806, -0.0005839837831445038, 0.02669447287917137, 0.012260284274816513, 0.018538953736424446, 0.0108830276876688, 0.0037098161410540342, -0.018660476431250572, 0.017431747168302536, -0.0018785374704748392, 0.03602471202611923, 0.015406370162963867, 0.017350733280181885, -0.04307302460074425, -0.01134211290627718, -0.012010487727820873, -0.0031477739103138447, -0.001743512344546616, 0.0050431895069777966, 0.005299737211316824, -0.024183005094528198, -0.000485668599139899, 0.0034093852154910564, 0.01411012839525938, 0.01458271685987711, -0.00422966293990612, -0.06000518053770065, -0.0007215406512841582, 0.00162198964972049, -0.01902504451572895, 0.01612200401723385, -0.01038343459367752, 0.006339431274682283, 0.010268663056194782, 0.006150396075099707, 0.02822025679051876, 0.014960787259042263, 0.0050836969166994095, 0.006731003988534212, -0.01589246094226837, 0.0011932848719879985, -0.025519754737615585, 0.016054490581154823, 0.008358057588338852, 0.047312814742326736, -0.006511588115245104, -0.006386689841747284, -0.02160402573645115, 0.031838931143283844, 0.018403928726911545, 0.003946110140532255, 0.0010987671557813883, -0.008297296240925789, -0.007122577168047428, -0.02240067347884178, 0.005444889422506094, -0.008047499693930149, 0.018687481060624123, -0.007399378344416618, 0.02323783002793789, 0.0009907471248880029, 0.024777116253972054, 0.015905963256955147, 0.0010101569350808859, 0.007709936238825321, 0.0031376471742987633, 0.011821452528238297, 0.0012869585771113634, -0.008169022388756275, 0.015203832648694515, 0.004030501004308462, 0.0041486481204628944, 0.0122670354321599, -0.016500074416399002, 0.004898037761449814, -0.0027781426906585693, -0.018322912976145744, -0.004837276414036751, -0.01304342970252037, -0.001957864733412862, 0.012341299094259739, 0.027437111362814903, -0.010349677875638008, -0.024804120883345604, 0.014947284944355488, 0.0094180041924119, -0.027653152123093605, -0.02400747314095497, 0.0010531962616369128, 0.03237903118133545, -0.007129328325390816, 0.03672684356570244, 0.02021326683461666, 0.00462461169809103, -0.0030397537630051374, -0.011544650420546532, 0.002823713468387723, 0.003292925888672471, 0.017661290243268013, -0.028598327189683914, -0.01354302279651165, -0.0035781667102128267, -0.004442327655851841, 0.0013865395449101925, -0.0005565567989833653, -0.027572136372327805, -0.0005991741199977696, -0.013867083936929703, -0.021833566948771477, -0.006109888199716806, 0.006609481293708086, 0.02121245115995407, -0.0018025857862085104, -0.0189980398863554, -0.01957864686846733, 0.018039360642433167, 0.010585972107946873, 0.006849151104688644, -0.010619728825986385, -0.03540359437465668, -0.003503902815282345, -0.012638354673981667, -0.005478645674884319, -0.0026380540803074837, -0.03597070276737213, -0.01199023425579071, 0.0865241214632988, -0.002648180816322565, 0.007487144786864519, 0.01731022447347641, -0.0010810451349243522, -0.002833840437233448, -0.031082790344953537, 0.013205460272729397, 0.0010835769353434443, 0.011774193495512009, -0.035133544355630875, 0.01844443567097187, 0.023696914315223694, 0.011848457157611847, -0.0013181831454858184, 0.006548719946295023, 0.021901080384850502, -0.036375775933265686, 0.01902504451572895, 0.004955423064529896, 0.00041203771252185106, -0.021090930327773094, -0.006109888199716806, 0.01333373412489891, 0.032865121960639954, 0.0018464690074324608, 0.015028299763798714, 0.005323366727679968, 0.010545465163886547, -0.019740678369998932, 0.009006178006529808, 0.01006612554192543, -0.01988920569419861, 0.006373187527060509, 0.005644051358103752, 0.016662104055285454, 0.005130955949425697, -0.04123668372631073, 0.03038066066801548, -0.002535097301006317, 0.01949763298034668, 0.013050181791186333, 0.00015369660104624927, 0.00422966293990612, 0.027464115992188454, -0.017188701778650284, -0.027288584038615227, -0.008776634931564331, 0.0030751980375498533, -0.01142312865704298, 0.006413694936782122, 0.01458271685987711, -0.018633471801877022, -0.00311908102594316, -0.0034330144990235567, 0.00021203169308137149, 0.0064170705154538155, -0.022387171164155006, -0.004067632835358381, -0.026829497888684273, 0.01405611913651228, -0.03880622982978821, 0.009154705330729485, -0.019092557951807976, -0.02015925571322441, -0.02229265309870243, -0.009472014382481575, -0.01145013328641653, -0.016243526712059975, 0.013212211430072784, -0.01749926060438156, -0.018066365271806717, 0.015851953998208046, 0.02614087052643299, 0.0005801861989311874, 0.014474696479737759, 0.008702371269464493, -0.006079507526010275, 0.04247891530394554, 0.005917477421462536, 0.0038178362883627415, -0.02018626034259796, -0.004445703234523535, -0.008938665501773357, -0.017593778669834137, 0.023467373102903366, -0.01664860174059868, -0.02373742312192917, -0.03381029888987541, 0.031109796836972237, 0.010619728825986385, -0.005829710979014635, 0.0045334696769714355, 0.01159190945327282, -0.008155519142746925, 0.0038279632572084665, 0.00043292439659126103, 0.007473642472177744, -0.002089514397084713, 0.004627987276762724, 0.0161490086466074, -0.010228155180811882, -0.00013534161553252488, -0.010079627856612206, 0.008189275860786438, 0.011072062887251377, -0.016054490581154823, 0.0014624912291765213, -0.005539407022297382, -0.00483390036970377, 0.012010487727820873, -0.010768256150186062, 0.007338617462664843, 0.017931340262293816, -0.02387244813144207, 0.01733723096549511, -0.0030988273210823536, 0.019403114914894104, 0.03140684962272644, -0.016351547092199326, 0.006727628409862518, -0.018147381022572517, 0.02339985966682434, 0.030812740325927734, -0.006184152327477932, 0.01670261099934578, -0.0030498807318508625, -0.016932154074311256, -0.02071285806596279, 0.001794146723113954, 0.02495264820754528, 0.01805286295711994, 0.011544650420546532, -0.04339708387851715, -0.003168027615174651, -0.007696433924138546, -0.014555712230503559, 0.01519033033400774, -0.011294853873550892, -0.010646733455359936, -0.027869192883372307, -0.006751257926225662, 0.013988606631755829, -0.0013097439659759402, 0.0007713311933912337, -0.027437111362814903, -0.008830645121634007, -0.02371041662991047, -0.013786068186163902, 0.04798794165253639, -0.023629402741789818, 0.043991196900606155, -0.004364687949419022, -0.016027485951781273, -0.0161490086466074, 0.012773379683494568, -0.007210343144834042, -0.03586268052458763, -0.0031005151104182005, 0.0008384218090213835, 0.03886023908853531, 0.0005367249832488596, -0.0016194579657167196, 0.022832753136754036, 0.01647306978702545, 0.014434189535677433, 0.015986979007720947, 0.010113384574651718, -0.02041580341756344, 0.009593537077307701, 0.019781185314059258, 0.05606244504451752, -0.023170316591858864, -0.01725621521472931, -0.0072778561152517796, -0.0004219536203891039, -0.005097199697047472, -0.013502515852451324, -0.031838931143283844, -0.03491750359535217, 2.0728472009068355e-05, -0.0008101509301923215, -0.017931340262293816, -0.017107687890529633, -0.05166062340140343, -0.007871966809034348, 0.03470146656036377, -0.002064197091385722, 0.012746375054121017, -0.003676059888675809, 0.015716928988695145, -0.008054250851273537, 0.010255160741508007, -0.015527892857789993, -0.007358870934695005, -0.012287288904190063, 0.007655926514416933, 0.002496277680620551, -0.012388558126986027, 0.0021958465222269297, 0.007682931609451771, 0.01805286295711994, -0.004644865170121193, 0.002376442775130272, 0.0013080561766400933, 0.010376683436334133, -0.014231651090085506, -0.0013359051663428545, 0.0006590915727429092, -0.02589782513678074, -0.008810391649603844, -0.02318381890654564, -0.0054145087487995625, -0.03910328447818756, 0.0011620603036135435, 0.007635672576725483, -0.004094637930393219, 0.035430602729320526, -0.03664582595229149, -0.020172758027911186, -0.010052623227238655, 0.006680369842797518, 0.031055785715579987, 0.008729375898838043, 0.024750111624598503, 0.04577352851629257, -0.015460380353033543, -0.016432560980319977, -0.0006793453358113766, -0.0020709482487291098, 0.02060483954846859, 0.0216310303658247, 0.04655667394399643, 0.009634044952690601, -0.023534884676337242, 0.01201723888516426, -0.012786881998181343, -0.008580848574638367, -0.03505253046751022, 0.029462488368153572, -0.0017283220076933503, -0.008006991818547249, 0.0012692364398390055, 0.0024523944593966007, -0.028733354061841965, 0.025330718606710434, -0.023075798526406288, -0.025776302441954613, 0.008169022388756275, -0.010714245960116386, 0.010174145922064781, 0.035241566598415375, 0.0036355522461235523, 0.01305693294852972, 0.0008498145616613328, -0.0024658970069140196, 0.01134211290627718, -0.008216280490159988, 0.005991741083562374, 0.0003462129388935864, 0.0037435723934322596, 0.015568400733172894, -0.016540581360459328, 0.025654779747128487, -0.007703185081481934, -0.0035815422888845205, 0.006180776748806238, 0.0015494136605411768, 0.027180563658475876, 0.028787363320589066, -0.02476361393928528, -0.030920760706067085, -0.006298923399299383, -0.03580867126584053, -0.01855245605111122, 0.012300792150199413, 0.002511468017473817, -0.015878958627581596, -0.013090688735246658, -0.020375296473503113, 0.01578444056212902, -0.0041655260138213634, -0.015959974378347397, 0.0018262151861563325, -0.02832827717065811, -0.0029232946690171957, -0.02639741823077202, -0.005019559990614653, 0.023413361981511116, 0.002182343974709511, -0.005488772410899401, 0.0007751287776045501, 0.004084511194378138, 0.029705533757805824, 0.004067632835358381, -0.01326622162014246, 0.022427678108215332, -0.0009375809459015727, -0.024412548169493675, 0.02919243834912777, 0.016824133694171906, 0.003416136372834444, -0.018457937985658646, -0.008040747605264187, -0.025519754737615585, -0.009877090342342854, 0.022279150784015656, -0.020820878446102142, -0.01960565336048603, -0.01165942195802927, 0.003969739656895399, -0.008202778175473213, -0.008574097417294979, -0.0016987852286547422, 0.0005772325675934553, -0.014555712230503559, -0.00623816205188632, -0.003218662226572633, 0.004553723614662886, -0.00038355583092197776, -0.015136320143938065, 0.013840078376233578, 0.020375296473503113, -0.0019983723759651184, 0.026734981685876846, -0.02647843398153782, 0.017053676769137383, 0.001757014892064035, 0.00041267063352279365, 0.022022603079676628, -0.00558666605502367, 0.031001776456832886, -0.030650710687041283, -0.008263539522886276, -0.028544317930936813, -0.011963228695094585, -0.024574577808380127, 0.0376180075109005, 6.566652882611379e-05, -0.025695286691188812, 0.029624519869685173, 0.02348087541759014, 0.005009433254599571, 0.021914582699537277, 0.005009433254599571, -0.0216850396245718, -0.002180656185373664, 0.010761504992842674, -0.024358538910746574, -0.019646160304546356, 0.012462821789085865, 0.04760986939072609, 0.019511135295033455, -0.023305341601371765, -0.0010405376087874174, -0.024142498150467873, -0.013435003347694874, 0.0009257662459276617, -0.02539823204278946, 0.024074984714388847, -0.005887096747756004, 0.02215762808918953, 0.007102323230355978, 0.00636306032538414, 0.03696988895535469, 0.013853580690920353, -0.013387744314968586, 0.014933782629668713, 0.017539767548441887, 0.0012008800404146314, 0.0006295547937043011, 0.017485758289694786, -0.04769088700413704, -0.0013164952397346497, 0.004519966896623373, 0.00034199340734630823, 0.0109235355630517, 0.00780445383861661, -0.01052521076053381, 0.00196630391292274, -0.007365622092038393, 0.027126554399728775, 0.024750111624598503, 0.009154705330729485, 0.011254346929490566, -0.025911327451467514, 0.010599474422633648, 0.005529280286282301, -0.0033992582466453314, 0.01109231635928154, 0.0033604386262595654, 0.0016422434709966183, 0.002881099237129092, -0.0071563334204256535, -0.01717519946396351, 0.0016785315237939358, 0.01081551518291235, -0.026073357090353966, 0.029948579147458076, 0.014474696479737759, -0.023143311962485313, 0.012273786589503288, -0.013988606631755829, 0.018687481060624123, 0.0015924529870972037, 0.01947062835097313, 0.006072756368666887, -0.03791506215929985, 0.0003189969283994287, -0.004654992371797562, 0.004435576498508453, -0.03040766529738903, 0.010390185751020908, -0.0012574217980727553, 0.0033958826679736376, -0.03337821736931801, -0.04188480228185654, -0.002189095364883542, 0.009782572276890278, 0.013448505662381649, -0.022333160042762756, 0.024101991206407547, 0.011733686551451683, -0.007372373715043068, -0.004776515066623688, -0.008290544152259827, 0.02808523178100586, -0.020861387252807617, -0.004685373045504093, 0.01273962389677763, -0.021482503041625023, -0.010268663056194782, 0.021414989605545998, 0.014231651090085506, 0.017296722158789635, 0.03559263050556183, 0.20826280117034912, 0.005401006434112787, 0.010639982298016548, 0.014515204355120659, 0.0025570387952029705, 0.02647843398153782, 0.03759100288152695, 0.005448265001177788, 0.016446063295006752, 0.005424635484814644, -0.027842186391353607, 0.027923202142119408, 0.00202875304967165, -0.0008211217354983091, 0.006595978979021311, -0.04431525617837906, -0.025519754737615585, -0.0382661297917366, 0.00956653244793415, -0.037536993622779846, -0.003925856202840805, 0.0162840336561203, -0.006504836957901716, -0.012125259265303612, 0.024264020845294, 0.0004831368860322982, -0.010167393833398819, -0.0044119469821453094, 0.025263207033276558, 0.010612977668642998, 0.014812259934842587, -0.04004846140742302, -0.025276709347963333, 0.021333973854780197, -0.006498085800558329, -0.006460953503847122, 0.018403928726911545, -0.024412548169493675, 0.008040747605264187, 0.001102142850868404, -0.0061470200307667255, 0.047177787870168686, 0.03607872128486633, -0.03164989501237869, 0.020199762657284737, 0.024831125512719154, -0.020483316853642464, -0.011578407138586044, 0.016594592481851578, -0.017485758289694786, -0.0021637780591845512, 0.01631103828549385, 0.02063184417784214, 0.02666746824979782, 0.00019726331811398268, 0.01844443567097187, 0.02315681427717209, 0.0032726721838116646, -0.010012115351855755, -0.010437444783747196, -0.0029908071737736464, 0.01113282423466444, -0.009222217835485935, -0.013124445453286171, 0.006788389757275581, 0.016000481322407722, -0.02500665932893753, 0.015433375723659992, -0.00022827689826954156, -0.0016481508500874043, -0.014920279383659363, -0.01197673100978136, -0.017026672139763832, 0.027410106733441353, -0.025992343202233315, -0.009661049582064152, 0.03343223035335541, 0.022859759628772736, 0.013245968148112297, 0.01983519457280636, -0.019038546830415726, -0.006595978979021311, -0.003551161615177989, 0.0004852466518059373, 0.002589107258245349, -0.022603211924433708, 0.03135284036397934, 0.003949485719203949, -0.02674848400056362, -0.011504143476486206, -0.0025030288379639387, -0.009890592657029629, 0.0030414415523409843, -0.00870912242680788, 0.0007236504461616278, 0.031136801466345787, 0.0058229598216712475, 0.007736941333860159, -0.03967038914561272, 0.011598660610616207, 0.0002552819496486336, 0.027383102104067802, -0.0034735221415758133, -0.003340184921398759, -0.01512281782925129, -0.005141082685440779, -0.015014797449111938, 0.020402301102876663, 0.005394254811108112, -0.022009100764989853, 0.006268542725592852, -0.022427678108215332, 0.03356725350022316, -0.01933560147881508, -0.0038414658047258854, -0.018133878707885742, 0.0015511014498770237, -0.0216310303658247, -0.0056204223074018955, -0.01720220409333706, 0.01844443567097187, -0.03316217660903931, -0.004840651992708445, -0.0022110368590801954, -0.0005185810150578618, -0.025938332080841064, 0.002884474815800786, -0.01081551518291235, -0.0018836009548977017, -0.03480948507785797, 0.020226769149303436, -0.0066229840740561485, 0.004114891868084669, -0.018660476431250572, -0.011166580021381378, -0.007979987189173698, 0.01857946068048477, -0.0019747428596019745, -0.0002968443732243031, -0.0006439012358896434, 0.016540581360459328, -0.0020405675750225782, 0.03605171665549278, 0.020321285352110863, 0.0030971395317465067, -0.017958344891667366, -0.0064778318628668785, 0.009336989372968674, -0.03567364811897278, 0.004523342940956354, -0.008911659941077232, -0.04445028305053711, 0.008965670131146908, -0.010916783474385738, 0.033027153462171555, 0.0003633020678535104, -0.03329720348119736, -0.002734259469434619, 0.011848457157611847, -0.0040169982239604, -0.015014797449111938, -0.0014759937766939402, 0.034107353538274765, -0.006244913674890995, -0.02213062345981598, -0.002958738710731268, -0.1734803169965744, 0.03661882132291794, 0.01265860814601183, -0.029597513377666473, -0.015743933618068695, -0.009046685881912708, 0.028409292921423912, -0.019241085276007652, 0.01081551518291235, -0.008108261041343212, 0.02595183439552784, -0.008688868954777718, -0.030029594898223877, 0.009404501877725124, 0.014528706669807434, 0.019875703379511833, -0.014596219174563885, 0.015446878038346767, 0.024709602817893028, 0.015473882667720318, 0.02824726328253746, -0.022414175793528557, 0.006714126095175743, 0.016054490581154823, 0.007669428829103708, 0.011639168485999107, 0.004135145340114832, 0.021441994234919548, -0.023143311962485313, -0.0030009341426193714, -0.01933560147881508, 0.003066758858039975, 0.029921574518084526, 0.011004550382494926, 0.013394495472311974, 0.011213839054107666, -0.01586545631289482, 0.015568400733172894, -0.010700743645429611, 0.013144698925316334, 0.016108501702547073, 0.025938332080841064, 0.030623706057667732, 0.029759544879198074, -0.00041520234663039446, 0.02123945765197277, 0.03556562587618828, -0.0014506764709949493, -0.005394254811108112, -0.007615418639034033, 0.03462044894695282, -0.014285661280155182, 0.02323783002793789, -0.011497392319142818, 0.008810391649603844, 0.029948579147458076, 0.004692124202847481, 0.0035680397413671017, 0.02639741823077202, -0.021887578070163727, -0.017026672139763832, -0.02832827717065811, -0.0010185959981754422, -0.018727989867329597, 0.018120376393198967, 0.0059849899262189865, -0.017323726788163185, -0.002663371153175831, -0.005245727486908436, 0.007183338515460491, -0.012327796779572964, -0.04150673374533653, 0.0013401246396824718, 0.015014797449111938, 0.01197673100978136, 0.017107687890529633, 0.0031376471742987633, 0.00042532922816462815, 0.009060188196599483, -0.00284565519541502, -0.004972301423549652, 0.05058042332530022, -0.03597070276737213, 0.029462488368153572, -0.025938332080841064, -0.004611108917742968, -0.005843213759362698, -0.013867083936929703, -0.01142312865704298, -0.01454220898449421, 0.014663731679320335, -0.007959732785820961, -0.010903281159698963, -0.017323726788163185, 0.03335121273994446, 0.003314867615699768, -0.01248982734978199, 0.012510080821812153, 0.0014894962077960372, -0.021036919206380844, -0.008972421288490295, -0.00353765906766057, -0.019011542201042175, -0.011564904823899269, 0.02803122252225876, 0.00861460529267788, 0.031244821846485138, 0.01717519946396351, 0.019929712638258934, -0.0007860995829105377, -0.0030971395317465067, 0.003598420415073633, 0.00732511468231678, 0.03499852120876312, -0.027707161381840706, 0.03540359437465668, -0.0025300339329987764, -0.03459344431757927, 0.0431540384888649, -0.007298109587281942, 0.0328381173312664, -0.012084751389920712, -0.009363994933664799, 0.0080745043233037, -0.0031157054472714663, -0.005509026348590851, -0.05708863586187363, -0.00943150743842125, 0.009397750720381737, 0.002894601784646511, -0.011895716190338135, 0.010390185751020908, -0.010572469793260098, 0.036483798176050186, -0.004668494686484337, 0.014420686289668083, -0.007615418639034033, 0.002378130564466119, -0.012273786589503288, -0.013023176230490208, 0.05187666416168213, -0.032000962644815445, 0.003949485719203949, -0.020564330741763115, -0.008445823565125465, 0.0050836969166994095, -0.001659121597185731, -0.0325140580534935, 0.012759877368807793, -0.0016152383759617805, -0.011396123096346855, 0.0019224206916987896, -0.027680156752467155, -0.0034043218474835157, 0.010336175560951233, 0.007561408914625645, -0.005319991149008274, -0.05020235478878021, 0.015824947506189346, -0.0189170241355896, -0.004567225929349661, -0.017958344891667366, -0.01947062835097313, 0.013380993157625198, 0.018957531079649925, -0.022832753136754036, -0.0016523703234270215, -0.006879531778395176, -0.03048868104815483, -0.013867083936929703, 0.002612736774608493, 0.009735314175486565, -0.017539767548441887, 0.0002894601784646511, -0.010700743645429611, -0.006947044283151627, -0.006670242641121149, -0.009877090342342854, -0.006072756368666887, -0.021401487290859222, 0.00583646260201931, -0.0012591095874086022, 0.005502275191247463, 0.004884534981101751, -0.003132583573460579, -0.010991048067808151, -0.020321285352110863, 0.027153559029102325, -0.023885950446128845, 0.03570065274834633, 0.004992555361241102, -0.015338857658207417, -0.011888965032994747, -0.02808523178100586, 0.021306969225406647, 0.00860110204666853, -0.011902467347681522, 0.01897103525698185, -0.012186020612716675, 0.019484130665659904, -0.04312703385949135, 0.01960565336048603, -0.01519033033400774, 0.004094637930393219, 0.01855245605111122, -0.025722293183207512, -0.008256788365542889, -0.02542523667216301, -0.00242707715369761, -0.010639982298016548, 0.009897343814373016, 0.035106539726257324, 0.007925976999104023, -0.007244099862873554, -0.012402060441672802, -0.03048868104815483, 0.020955903455615044, 0.011902467347681522, -0.014096626080572605, -0.017634285613894463, 0.008520087227225304, 0.00700780563056469, -0.010579220950603485, -0.02348087541759014, 0.009742065332829952, 0.008256788365542889, -0.017040174454450607, 0.0034836491104215384, -0.08420168608427048, 0.02073986455798149, 0.03567364811897278, -0.0041655260138213634, -0.001336749061010778, 0.000605925393756479, 0.027410106733441353, 0.004594231024384499, 0.009404501877725124, -0.015230837278068066, 0.01752626523375511, 0.017715301364660263, -0.0053132399916648865, 0.013151450082659721, -0.029894569888710976, 0.0031477739103138447, -0.005252478644251823, 0.018511949107050896, 0.043667133897542953, 0.0059242285788059235, -0.03173091262578964, -0.013212211430072784, 0.018457937985658646, 0.014771752059459686, -0.02403447777032852, 0.01010663341730833, 0.005002682097256184, 0.02932746335864067, 0.010937037877738476, 0.017593778669834137, 0.026870006695389748, -0.02506066858768463, -0.018349919468164444, 0.020672351121902466, 0.004671870265156031, -0.023170316591858864, -0.01002561766654253, 0.010444195941090584, -0.025681784376502037, 0.011504143476486206, -0.01333373412489891, -0.027626147493720055, 0.016959160566329956, 0.0014557399554178119, 0.006852526683360338, -0.0011325235245749354, -0.00952602457255125, -0.0005379908834584057, 0.021117934957146645, 0.00874963030219078, 0.0034110730048269033, 0.002535097301006317, -0.01510931458324194, 0.0028507185634225607, -0.0164190586656332, -0.003750323783606291, 0.007682931609451771, -0.001917357207275927, -0.01983519457280636, 0.020901894196867943, 0.02932746335864067, -0.016189515590667725, -0.003414448583498597, -0.008452574722468853, -0.0061301421374082565, -0.019349105656147003, -0.012530334293842316, 0.0379960797727108, -0.005610295105725527, -0.01113282423466444, -0.029732540249824524, 0.01971367374062538, 0.005623797886073589, 0.010282165370881557, -0.00418240437284112, -0.010660235770046711, -0.013191957958042622, 0.020820878446102142, -0.016446063295006752, 0.013185206800699234, 0.02487163431942463, 0.02476361393928528, -0.04779890552163124, 0.00255197542719543, -0.03818511590361595, 0.02605985477566719, -0.0020084991119802, -0.014461194165050983, -0.02315681427717209, 0.01415063627064228, -0.030569694936275482, 0.009168208576738834, 0.002241417532786727, -0.030164619907736778, -0.0001583380944794044, -0.011645919643342495, 0.0016667167656123638, -0.022414175793528557, 0.02589782513678074, 0.01573043130338192, 0.0068255215883255005, -0.008668615482747555, -0.030029594898223877, -0.023548386991024017, -0.010639982298016548, -0.03137984499335289, -0.01965966261923313, -0.023035291582345963, 0.02753162942826748, -0.00162198964972049, -0.0019848698284476995, 0.016527079045772552, -0.019349105656147003, 0.0045334696769714355, -0.002249856712296605, -0.017188701778650284, 0.0030228756368160248, -0.024709602817893028, -0.019173571839928627, 0.02605985477566719, -0.022144125774502754, 0.03556562587618828, 0.013779317028820515, -0.021198948845267296, 0.013934596441686153, 0.009937851689755917, 0.013158201240003109, -0.016446063295006752, -0.008006991818547249, -0.01691865175962448, -0.0027207569219172, -0.02218463271856308, -0.014636727049946785, -0.011416376568377018, -0.02024027146399021, -0.011058560572564602, 0.0067411307245492935, 0.0043106782250106335, -0.007487144786864519, 0.08133915066719055, 0.01681063137948513, -0.007331865839660168, -0.0007105699041858315, -0.0009932788088917732, 0.027653152123093605, -0.009627293795347214, 0.004344434477388859, -0.02819325216114521, -0.03448542580008507, 0.014744747430086136, -0.02561427280306816, 0.002128334017470479, 0.0028169623110443354, -0.006940293125808239, -0.01694565638899803, -0.024047980085015297, -0.006595978979021311, 0.0036288010887801647, -0.01780981756746769, 0.018673978745937347, -0.01802585832774639, 0.002759576542302966, -0.00011245063797105104, -0.019686667248606682, -0.003080261405557394, 0.013144698925316334, 0.009485517628490925, 0.004918291233479977, -0.011774193495512009, 0.018484944477677345, -0.0061470200307667255, -0.009735314175486565, 0.015365863218903542, 0.02824726328253746, -0.027491122484207153, 0.0011291478294879198, 0.008216280490159988, -0.006265167146921158, -0.0024085112381726503, 0.0008953855722211301, 0.018133878707885742, -0.034080348908901215, -0.009600288234651089, -0.007905722595751286, -0.005309864412993193, -0.00759516516700387, -0.005833086557686329, -0.008047499693930149]}}}\n"
          ]
        }
      ]
    },
    {
      "cell_type": "code",
      "source": [
        "# Find a user's profile based on a user trip string that's vectorized (Uses similarity search and vectors)\n",
        "query_vector_string = create_user_trip_string('female','Middle-Aged Adults','Rio de Janeiro (RJ)','Medium','Medium','Medium')\n",
        "query_vector = get_embedding(query_vector_string)\n",
        "\n",
        "documents = vector_collection.vector_find(\n",
        "    query_vector,\n",
        "    limit=10,\n",
        "    fields=[\"user_id\",\"user_profile\",\"destination\", \"flight_price\",\"hotel_price\",\"distance\"],\n",
        ")\n",
        "for document in documents:\n",
        "    print(f\"\\n similarity: {document['$similarity']} - {document}\")"
      ],
      "metadata": {
        "colab": {
          "base_uri": "https://localhost:8080/"
        },
        "id": "_Y7wXgCuAsSW",
        "outputId": "4d0327fc-db85-4926-b3f6-c3a9659204ba"
      },
      "execution_count": null,
      "outputs": [
        {
          "output_type": "stream",
          "name": "stdout",
          "text": [
            "\n",
            " similarity: 0.9983452 - {'_id': '26adb7b9-3089-4cb7-adb7-b93089ccb7e1', 'user_id': 1255, 'user_profile': 'User Profile: gender: female; age_group: Middle-Aged Adults (35-49)', 'destination': 'Rio de Janeiro (RJ)', 'flight_price': 'Medium', 'hotel_price': 'Medium', 'distance': 'Medium', '$similarity': 0.9983452}\n",
            "\n",
            " similarity: 0.9983452 - {'_id': '47f57d38-17b2-499e-b57d-3817b2f99e27', 'user_id': 1255, 'user_profile': 'User Profile: gender: female; age_group: Middle-Aged Adults (35-49)', 'destination': 'Rio de Janeiro (RJ)', 'flight_price': 'Medium', 'hotel_price': 'Medium', 'distance': 'Medium', '$similarity': 0.9983452}\n",
            "\n",
            " similarity: 0.9983452 - {'_id': '06ca5870-8a1e-47e1-8a58-708a1e87e1d9', 'user_id': 835, 'user_profile': 'User Profile: gender: female; age_group: Middle-Aged Adults (35-49)', 'destination': 'Rio de Janeiro (RJ)', 'flight_price': 'Medium', 'hotel_price': 'Medium', 'distance': 'Medium', '$similarity': 0.9983452}\n",
            "\n",
            " similarity: 0.99834144 - {'_id': 'a350d25e-73c5-4398-90d2-5e73c5e398cf', 'user_id': 1273, 'user_profile': 'User Profile: gender: female; age_group: Middle-Aged Adults (35-49)', 'destination': 'Rio de Janeiro (RJ)', 'flight_price': 'Medium', 'hotel_price': 'Medium', 'distance': 'Medium', '$similarity': 0.99834144}\n",
            "\n",
            " similarity: 0.99834144 - {'_id': 'b988fdb8-01d2-4d84-88fd-b801d2ad84d8', 'user_id': 208, 'user_profile': 'User Profile: gender: female; age_group: Middle-Aged Adults (35-49)', 'destination': 'Rio de Janeiro (RJ)', 'flight_price': 'Medium', 'hotel_price': 'Medium', 'distance': 'Medium', '$similarity': 0.99834144}\n",
            "\n",
            " similarity: 0.99834144 - {'_id': 'b36c3f92-e893-4ee7-ac3f-92e893eee7d1', 'user_id': 1054, 'user_profile': 'User Profile: gender: female; age_group: Middle-Aged Adults (35-49)', 'destination': 'Rio de Janeiro (RJ)', 'flight_price': 'Medium', 'hotel_price': 'Medium', 'distance': 'Medium', '$similarity': 0.99834144}\n",
            "\n",
            " similarity: 0.99833465 - {'_id': 'a3bd1e9e-b4cc-4639-bd1e-9eb4ccb639be', 'user_id': 1076, 'user_profile': 'User Profile: gender: female; age_group: Middle-Aged Adults (35-49)', 'destination': 'Rio de Janeiro (RJ)', 'flight_price': 'Medium', 'hotel_price': 'Medium', 'distance': 'Medium', '$similarity': 0.99833465}\n",
            "\n",
            " similarity: 0.9983269 - {'_id': '5f90d8ca-bfd8-4b81-90d8-cabfd82b81ec', 'user_id': 2, 'user_profile': 'User Profile: gender: female; age_group: Middle-Aged Adults (35-49)', 'destination': 'Rio de Janeiro (RJ)', 'flight_price': 'Medium', 'hotel_price': 'Medium', 'distance': 'Medium', '$similarity': 0.9983269}\n",
            "\n",
            " similarity: 0.9983269 - {'_id': '326af713-2f1e-4abf-aaf7-132f1e5abf32', 'user_id': 1121, 'user_profile': 'User Profile: gender: female; age_group: Middle-Aged Adults (35-49)', 'destination': 'Rio de Janeiro (RJ)', 'flight_price': 'Medium', 'hotel_price': 'Medium', 'distance': 'Medium', '$similarity': 0.9983269}\n",
            "\n",
            " similarity: 0.9983269 - {'_id': '9cc85738-6fcc-4202-8857-386fccc20257', 'user_id': 1314, 'user_profile': 'User Profile: gender: female; age_group: Middle-Aged Adults (35-49)', 'destination': 'Rio de Janeiro (RJ)', 'flight_price': 'Medium', 'hotel_price': 'Medium', 'distance': 'Medium', '$similarity': 0.9983269}\n"
          ]
        }
      ]
    },
    {
      "cell_type": "code",
      "source": [
        "# Find a user's profile based on a Random user trip profile that's vectorized\n",
        "query_vector_string = generate_random_user_trip()\n",
        "print(f\"The random query string: {query_vector_string}\")\n",
        "query_vector = get_embedding(query_vector_string)\n",
        "\n",
        "documents = vector_collection.vector_find(\n",
        "    query_vector,\n",
        "    limit=10,\n",
        "    fields=[\"user_id\",\"user_profile\",\"destination\", \"flight_price\",\"hotel_price\",\"distance\"],\n",
        ")\n",
        "for document in documents:\n",
        "    print(f\"\\n similarity: {document['$similarity']} - {document}\")"
      ],
      "metadata": {
        "colab": {
          "base_uri": "https://localhost:8080/"
        },
        "id": "wBlzRzlDYr0u",
        "outputId": "47657e2b-1de6-4581-80ba-0c0597fa7d97"
      },
      "execution_count": null,
      "outputs": [
        {
          "output_type": "stream",
          "name": "stdout",
          "text": [
            "The random query string: User Profile: gender: Female; age_group: Pre-Retirement (50-64) Destination: New York Flight Price: High Hotel Price: Low Distance: Long\n",
            "\n",
            " similarity: 0.9779643 - {'_id': '6e197068-2286-4b94-9970-682286ab9481', 'user_id': 11, 'user_profile': 'User Profile: gender: female; age_group: Pre-Retirement (50-64)', 'destination': 'Natal (RN)', 'flight_price': 'High', 'hotel_price': 'Medium', 'distance': 'Medium', '$similarity': 0.9779643}\n",
            "\n",
            " similarity: 0.9779643 - {'_id': '49d0dd54-fc34-4238-90dd-54fc34423808', 'user_id': 1036, 'user_profile': 'User Profile: gender: female; age_group: Pre-Retirement (50-64)', 'destination': 'Natal (RN)', 'flight_price': 'High', 'hotel_price': 'Medium', 'distance': 'Medium', '$similarity': 0.9779643}\n",
            "\n",
            " similarity: 0.9779643 - {'_id': 'e6e9870b-de31-42cf-a987-0bde3172cf64', 'user_id': 882, 'user_profile': 'User Profile: gender: female; age_group: Pre-Retirement (50-64)', 'destination': 'Natal (RN)', 'flight_price': 'High', 'hotel_price': 'Medium', 'distance': 'Medium', '$similarity': 0.9779643}\n",
            "\n",
            " similarity: 0.9779643 - {'_id': '6fd09488-9f69-4e85-9094-889f690e854b', 'user_id': 1165, 'user_profile': 'User Profile: gender: female; age_group: Pre-Retirement (50-64)', 'destination': 'Natal (RN)', 'flight_price': 'High', 'hotel_price': 'Medium', 'distance': 'Medium', '$similarity': 0.9779643}\n",
            "\n",
            " similarity: 0.9779643 - {'_id': 'b495324f-40ab-4ccb-9532-4f40abcccb1b', 'user_id': 248, 'user_profile': 'User Profile: gender: female; age_group: Pre-Retirement (50-64)', 'destination': 'Natal (RN)', 'flight_price': 'High', 'hotel_price': 'Medium', 'distance': 'Medium', '$similarity': 0.9779643}\n",
            "\n",
            " similarity: 0.9779643 - {'_id': '5e2c86a0-a074-4a32-ac86-a0a074ca328e', 'user_id': 1271, 'user_profile': 'User Profile: gender: female; age_group: Pre-Retirement (50-64)', 'destination': 'Natal (RN)', 'flight_price': 'High', 'hotel_price': 'Medium', 'distance': 'Medium', '$similarity': 0.9779643}\n",
            "\n",
            " similarity: 0.9779643 - {'_id': '9bfb3333-32ac-438a-bb33-3332acf38add', 'user_id': 1005, 'user_profile': 'User Profile: gender: female; age_group: Pre-Retirement (50-64)', 'destination': 'Natal (RN)', 'flight_price': 'High', 'hotel_price': 'Medium', 'distance': 'Medium', '$similarity': 0.9779643}\n",
            "\n",
            " similarity: 0.9779643 - {'_id': '95ca65ed-a640-458c-8a65-eda640858c09', 'user_id': 1157, 'user_profile': 'User Profile: gender: female; age_group: Pre-Retirement (50-64)', 'destination': 'Natal (RN)', 'flight_price': 'High', 'hotel_price': 'Medium', 'distance': 'Medium', '$similarity': 0.9779643}\n",
            "\n",
            " similarity: 0.9779643 - {'_id': 'df5cd440-732a-45d6-9cd4-40732ad5d607', 'user_id': 1002, 'user_profile': 'User Profile: gender: female; age_group: Pre-Retirement (50-64)', 'destination': 'Natal (RN)', 'flight_price': 'High', 'hotel_price': 'Medium', 'distance': 'Medium', '$similarity': 0.9779643}\n",
            "\n",
            " similarity: 0.9779643 - {'_id': '560eebe3-dbdf-43d9-8eeb-e3dbdf13d9f6', 'user_id': 248, 'user_profile': 'User Profile: gender: female; age_group: Pre-Retirement (50-64)', 'destination': 'Natal (RN)', 'flight_price': 'High', 'hotel_price': 'Medium', 'distance': 'Medium', '$similarity': 0.9779643}\n"
          ]
        }
      ]
    },
    {
      "cell_type": "code",
      "source": [
        "# Find trips based on a natural language query\n",
        "query_vector_string = \"An older gentleman who likes inexpensive trips that are short\"\n",
        "print(f\"The random query string: {query_vector_string}\")\n",
        "query_vector = get_embedding(query_vector_string)\n",
        "\n",
        "documents = vector_collection.vector_find(\n",
        "    query_vector,\n",
        "    limit=10,\n",
        "    fields=[\"user_id\",\"user_profile\",\"destination\", \"flight_price\",\"hotel_price\",\"distance\"],  # remember the dollar sign (reserved name)\n",
        ")\n",
        "for document in documents:\n",
        "    print(f\"\\n similarity: {document['$similarity']} - {document}\")"
      ],
      "metadata": {
        "colab": {
          "base_uri": "https://localhost:8080/"
        },
        "id": "9l3YVLDZZX55",
        "outputId": "ef1f8ea0-63f6-46ab-f0fb-df564f9441b8"
      },
      "execution_count": null,
      "outputs": [
        {
          "output_type": "stream",
          "name": "stdout",
          "text": [
            "The random query string: An older gentleman who likes inexpensive trips that are short\n",
            "\n",
            " similarity: 0.90976644 - {'_id': '8d295961-7556-49c3-a959-617556b9c32d', 'user_id': 12, 'user_profile': 'User Profile: gender: male; age_group: Pre-Retirement (50-64)', 'destination': 'Rio de Janeiro (RJ)', 'flight_price': 'Medium', 'hotel_price': 'Medium', 'distance': 'Short', '$similarity': 0.90976644}\n",
            "\n",
            " similarity: 0.90976644 - {'_id': 'b4223d3d-2914-41d2-a23d-3d291481d232', 'user_id': 273, 'user_profile': 'User Profile: gender: male; age_group: Pre-Retirement (50-64)', 'destination': 'Rio de Janeiro (RJ)', 'flight_price': 'Medium', 'hotel_price': 'Medium', 'distance': 'Short', '$similarity': 0.90976644}\n",
            "\n",
            " similarity: 0.90976644 - {'_id': 'b066d4a2-0b72-4824-a6d4-a20b727824e2', 'user_id': 274, 'user_profile': 'User Profile: gender: male; age_group: Pre-Retirement (50-64)', 'destination': 'Rio de Janeiro (RJ)', 'flight_price': 'Medium', 'hotel_price': 'Medium', 'distance': 'Short', '$similarity': 0.90976644}\n",
            "\n",
            " similarity: 0.90976644 - {'_id': 'f8587f93-3c60-4397-987f-933c60e397fe', 'user_id': 134, 'user_profile': 'User Profile: gender: male; age_group: Pre-Retirement (50-64)', 'destination': 'Rio de Janeiro (RJ)', 'flight_price': 'Medium', 'hotel_price': 'Medium', 'distance': 'Short', '$similarity': 0.90976644}\n",
            "\n",
            " similarity: 0.90976644 - {'_id': '6b5625a6-91e3-481f-9625-a691e3a81fec', 'user_id': 82, 'user_profile': 'User Profile: gender: male; age_group: Pre-Retirement (50-64)', 'destination': 'Rio de Janeiro (RJ)', 'flight_price': 'Medium', 'hotel_price': 'Medium', 'distance': 'Short', '$similarity': 0.90976644}\n",
            "\n",
            " similarity: 0.90976644 - {'_id': '938f8a61-9747-42b7-8f8a-619747d2b7e0', 'user_id': 231, 'user_profile': 'User Profile: gender: male; age_group: Pre-Retirement (50-64)', 'destination': 'Rio de Janeiro (RJ)', 'flight_price': 'Medium', 'hotel_price': 'Medium', 'distance': 'Short', '$similarity': 0.90976644}\n",
            "\n",
            " similarity: 0.90976644 - {'_id': 'f7aafaa7-bd38-4cf0-aafa-a7bd388cf045', 'user_id': 274, 'user_profile': 'User Profile: gender: male; age_group: Pre-Retirement (50-64)', 'destination': 'Rio de Janeiro (RJ)', 'flight_price': 'Medium', 'hotel_price': 'Medium', 'distance': 'Short', '$similarity': 0.90976644}\n",
            "\n",
            " similarity: 0.90976644 - {'_id': 'a3c910b2-f0b2-499c-8910-b2f0b2299cf7', 'user_id': 158, 'user_profile': 'User Profile: gender: male; age_group: Pre-Retirement (50-64)', 'destination': 'Rio de Janeiro (RJ)', 'flight_price': 'Medium', 'hotel_price': 'Medium', 'distance': 'Short', '$similarity': 0.90976644}\n",
            "\n",
            " similarity: 0.90976644 - {'_id': '0b687f8a-29a1-4bbe-a87f-8a29a18bbe05', 'user_id': 112, 'user_profile': 'User Profile: gender: male; age_group: Pre-Retirement (50-64)', 'destination': 'Rio de Janeiro (RJ)', 'flight_price': 'Medium', 'hotel_price': 'Medium', 'distance': 'Short', '$similarity': 0.90976644}\n",
            "\n",
            " similarity: 0.90976644 - {'_id': 'b33c052c-321e-47e8-bc05-2c321ef7e8cf', 'user_id': 362, 'user_profile': 'User Profile: gender: male; age_group: Pre-Retirement (50-64)', 'destination': 'Rio de Janeiro (RJ)', 'flight_price': 'Medium', 'hotel_price': 'Medium', 'distance': 'Short', '$similarity': 0.90976644}\n"
          ]
        }
      ]
    },
    {
      "cell_type": "code",
      "source": [
        "# Find trips based on a natural language query\n",
        "query_vector_string = \"A thirty-something woman who likes middle distanced reasonably priced trips\"\n",
        "print(f\"The random query string: {query_vector_string}\")\n",
        "query_vector = get_embedding(query_vector_string)\n",
        "\n",
        "documents = vector_collection.vector_find(\n",
        "    query_vector,\n",
        "    limit=10,\n",
        "    fields=[\"user_id\",\"user_profile\",\"destination\", \"flight_price\",\"hotel_price\",\"distance\"],\n",
        ")\n",
        "for document in documents:\n",
        "    print(f\"\\n similarity: {document['$similarity']} - {document}\")"
      ],
      "metadata": {
        "colab": {
          "base_uri": "https://localhost:8080/"
        },
        "id": "XQWCSnoFZ2ir",
        "outputId": "973e05f3-c567-4685-9172-559f01eb30ec"
      },
      "execution_count": null,
      "outputs": [
        {
          "output_type": "stream",
          "name": "stdout",
          "text": [
            "The random query string: A thirty-something woman who likes middle distanced reasonably priced trips\n",
            "\n",
            " similarity: 0.9195458 - {'_id': '9cc85738-6fcc-4202-8857-386fccc20257', 'user_id': 1314, 'user_profile': 'User Profile: gender: female; age_group: Middle-Aged Adults (35-49)', 'destination': 'Rio de Janeiro (RJ)', 'flight_price': 'Medium', 'hotel_price': 'Medium', 'distance': 'Medium', '$similarity': 0.9195458}\n",
            "\n",
            " similarity: 0.9194253 - {'_id': '4cef41ad-da41-49c9-af41-adda4149c978', 'user_id': 1295, 'user_profile': 'User Profile: gender: female; age_group: Middle-Aged Adults (35-49)', 'destination': 'Rio de Janeiro (RJ)', 'flight_price': 'Medium', 'hotel_price': 'High', 'distance': 'Medium', '$similarity': 0.9194253}\n",
            "\n",
            " similarity: 0.9194253 - {'_id': 'ac9afc83-2e27-4bea-9afc-832e27cbea49', 'user_id': 1295, 'user_profile': 'User Profile: gender: female; age_group: Middle-Aged Adults (35-49)', 'destination': 'Rio de Janeiro (RJ)', 'flight_price': 'Medium', 'hotel_price': 'High', 'distance': 'Medium', '$similarity': 0.9194253}\n",
            "\n",
            " similarity: 0.9194253 - {'_id': '3098b2a6-0593-41e3-98b2-a6059371e316', 'user_id': 1314, 'user_profile': 'User Profile: gender: female; age_group: Middle-Aged Adults (35-49)', 'destination': 'Rio de Janeiro (RJ)', 'flight_price': 'Medium', 'hotel_price': 'High', 'distance': 'Medium', '$similarity': 0.9194253}\n",
            "\n",
            " similarity: 0.9194253 - {'_id': 'ee77c160-c604-4cc9-b7c1-60c6041cc9d8', 'user_id': 1295, 'user_profile': 'User Profile: gender: female; age_group: Middle-Aged Adults (35-49)', 'destination': 'Rio de Janeiro (RJ)', 'flight_price': 'Medium', 'hotel_price': 'High', 'distance': 'Medium', '$similarity': 0.9194253}\n",
            "\n",
            " similarity: 0.9194253 - {'_id': 'c95c9bd1-2630-4ae0-9c9b-d126301ae00d', 'user_id': 1295, 'user_profile': 'User Profile: gender: female; age_group: Middle-Aged Adults (35-49)', 'destination': 'Rio de Janeiro (RJ)', 'flight_price': 'Medium', 'hotel_price': 'High', 'distance': 'Medium', '$similarity': 0.9194253}\n",
            "\n",
            " similarity: 0.9194253 - {'_id': 'b0b0db00-1698-421b-b0db-001698421b3a', 'user_id': 1314, 'user_profile': 'User Profile: gender: female; age_group: Middle-Aged Adults (35-49)', 'destination': 'Rio de Janeiro (RJ)', 'flight_price': 'Medium', 'hotel_price': 'High', 'distance': 'Medium', '$similarity': 0.9194253}\n",
            "\n",
            " similarity: 0.9194253 - {'_id': '3a1f0b2a-3518-4570-9f0b-2a35186570e8', 'user_id': 1295, 'user_profile': 'User Profile: gender: female; age_group: Middle-Aged Adults (35-49)', 'destination': 'Rio de Janeiro (RJ)', 'flight_price': 'Medium', 'hotel_price': 'High', 'distance': 'Medium', '$similarity': 0.9194253}\n",
            "\n",
            " similarity: 0.9194253 - {'_id': '755cddc9-bdc5-4f98-9cdd-c9bdc5af987c', 'user_id': 1295, 'user_profile': 'User Profile: gender: female; age_group: Middle-Aged Adults (35-49)', 'destination': 'Rio de Janeiro (RJ)', 'flight_price': 'Medium', 'hotel_price': 'High', 'distance': 'Medium', '$similarity': 0.9194253}\n",
            "\n",
            " similarity: 0.9194253 - {'_id': 'ef8dfc9d-3a56-440b-8dfc-9d3a56640b46', 'user_id': 1314, 'user_profile': 'User Profile: gender: female; age_group: Middle-Aged Adults (35-49)', 'destination': 'Rio de Janeiro (RJ)', 'flight_price': 'Medium', 'hotel_price': 'High', 'distance': 'Medium', '$similarity': 0.9194253}\n"
          ]
        }
      ]
    },
    {
      "cell_type": "markdown",
      "source": [
        "<a name=\"collaborative_filtering_implementation\"></a>\n",
        "## Collaborative Filtering Queries - Find recommended user trips\n",
        "Collaborative filtering leverages user similarity and past interactions to recommend trips, while vector search uses the semantic content of trips and user data to find and recommend trips that are contextually similar to a user’s interests.  collaborative filtering can factor in the weight of user trips, such as how frequently a user visits a particular location. This weighting is crucial because it helps to refine the recommendations based on the intensity or frequency of user preferences."
      ],
      "metadata": {
        "id": "ImnjOs0hP8Dd"
      }
    },
    {
      "cell_type": "code",
      "source": [
        "# Find a user's profile based on an Id\n",
        "document = cf_collection.find_one(filter={\"_id\":\"26\"})\n",
        "start_time = time.process_time()\n",
        "user_embedding = document['data']['document']['$vector']\n",
        "query_results = cf_collection.vector_find(\n",
        "        vector=user_embedding,\n",
        "        limit=10,\n",
        "    )\n",
        "print(\"Time needed for retrieving recommended products using AstraDB: \" + str(time.process_time() - start_time) + ' seconds.\\n')\n",
        "print(query_results)\n",
        "for result in query_results:\n",
        "  print(f\"id={result['_id']} | product_title={result['title']} | similarity={result['$similarity']}\")\n",
        "\n",
        "print('\\r') # add a blank line"
      ],
      "metadata": {
        "colab": {
          "base_uri": "https://localhost:8080/"
        },
        "id": "m8V6M4i4QROd",
        "outputId": "d72ce382-3546-4e85-b91e-e492221bec55"
      },
      "execution_count": null,
      "outputs": [
        {
          "output_type": "stream",
          "name": "stdout",
          "text": [
            "Time needed for retrieving recommended products using AstraDB: 0.006238177000000178 seconds.\n",
            "\n",
            "[{'_id': '26', '$vector': [0.02385653369128704, -0.033946532756090164, -0.017650935798883438, -0.04332209378480911, 0.02083425596356392, -0.018534818664193153, 0.020569683983922005, -0.026660744100809097, 0.0256964024156332, -0.01084749773144722, -0.022798756137490273, -0.044192757457494736, 0.02369656041264534, -0.007521080318838358, 0.0634937733411789, -0.007625754922628403, -0.024149693548679352, -0.01254771463572979, 0.006926544941961765, 0.015137676149606705, -0.015155146829783916, -0.005329479463398457, -0.015582157298922539, 0.009699961170554161, -0.007862324826419353, -0.026955444365739822, 0.010041138157248497, 0.0322384387254715, 0.0028038881719112396, -0.04351278021931648, 0.01609230786561966, -0.014077933505177498, -0.026340875774621964, 0.010667816735804081, 0.021877044811844826, 0.025248365476727486, 0.021565914154052734, 0.05605557933449745, -0.02739633619785309, 0.002236337633803487, -0.012492060661315918, -0.07661368697881699, -0.05929234251379967, -0.026432976126670837, -0.0015331421745941043, -0.0034014356788247824, -0.000445262499852106, -0.022408928722143173, -0.038255784660577774, -0.0236430112272501, -0.0003246409760322422, -0.007320033852010965, 0.002697736956179142, -0.0037101106718182564, -0.0001834023860283196, 0.010187514126300812, 0.0496375635266304, 0.03066854365170002, -0.03733561187982559, -0.016003195196390152, 0.017503201961517334, 0.03494788333773613, -0.0036851754412055016, -0.017416687682271004, -0.00501682935282588, 0.018077751621603966, 0.01463234145194292, 0.023891281336545944, -0.029612185433506966, -0.03109498880803585, 0.0074094003066420555, -0.05734042823314667, -0.018323298543691635, -0.003036951180547476, -0.006906348746269941, 0.007613773457705975, -0.00948380772024393, 0.00878369715064764, -0.02560456097126007, -0.02859741821885109, 0.037413742393255234, 0.007912990637123585, -0.04425131157040596, -0.00459775235503912, -0.01490839198231697, -0.009348047897219658, -0.028198610991239548, -0.040971215814352036, -0.07011862844228745, -0.0116813275963068, 0.02552535943686962, 0.004512649029493332, -0.0003163838409818709, 0.020455459132790565, 0.04333098977804184, -0.006713447161018848, 0.009820621460676193, -0.004596599377691746, -0.07196317613124847, 0.026151256635785103], 'title': 'User Profile: gender: female; age_group: Middle-Aged Adults (35-49) Destination: Rio de Janeiro (RJ) Flight Price: Medium Hotel Price: Medium Distance: Medium', '$similarity': 1.0}, {'_id': '24', '$vector': [0.037428803741931915, 0.016631945967674255, 0.029117142781615257, -0.053841397166252136, 0.04807513952255249, -0.0442708358168602, 0.038580551743507385, 0.0018304884433746338, -0.02584131620824337, -0.013833152130246162, -0.0027406250592321157, -0.024038126692175865, 0.022581743076443672, 0.00019302201690152287, 0.0587470605969429, -0.0038147540763020515, -0.016809022054076195, -0.012642656452953815, 0.007342950906604528, -0.018545838072896004, -0.01968921720981598, -0.0002634869597386569, 0.007965643890202045, -0.014541621319949627, -0.055074792355298996, -0.04493449628353119, -0.026061760261654854, 0.03636619448661804, -0.04078987240791321, -0.036994703114032745, 0.017274752259254456, -0.0011649503139778972, -0.03615817427635193, 0.00829927809536457, 0.010042989626526833, -0.0034320377744734287, 0.023888058960437775, 0.03997277840971947, -0.02528712898492813, 0.004271228797733784, -0.035415273159742355, -0.04866001382470131, -0.04174274206161499, -0.028363583609461784, -0.025199750438332558, -0.008514056913554668, -0.025994455441832542, -0.00873804185539484, -0.027829021215438843, -0.07673535495996475, -0.010667797178030014, -0.004645838402211666, -0.0016140516381710768, -0.00372728961519897, -0.0034171550069004297, 0.016558678820729256, 0.003222333500161767, 0.0466376468539238, -0.027800099924206734, 0.012375842779874802, 0.020205669105052948, 0.01856081932783127, -0.031427234411239624, -0.04255872219800949, -0.034475162625312805, 0.02417268231511116, 0.0027926636394113302, 0.01197756640613079, -0.011419810354709625, -0.045571766793727875, 0.01015929039567709, 0.0004300142463762313, -0.003790237009525299, 0.033237483352422714, 0.0007447600364685059, -0.005899122450500727, -0.011108897626399994, -0.00817071832716465, -0.03749673068523407, -0.029622923582792282, 0.037852391600608826, -0.0045763966627418995, -0.034823592752218246, -0.0008705427753739059, -0.001473717507906258, -0.005649715196341276, -0.021798349916934967, -0.06199211999773979, -0.07435919344425201, 0.004028796683996916, 0.018527133390307426, -0.03055637516081333, -0.025394964963197708, -0.01739581860601902, 0.04352987930178642, 0.005792224779725075, 0.004277000203728676, 0.02144458144903183, -0.020256677642464638, 0.0330936498939991], 'title': 'User Profile: gender: female; age_group: Middle-Aged Adults (35-49) Destination: Florianopolis (SC) Flight Price: High Hotel Price: High Distance: Long', '$similarity': 0.8476813}, {'_id': '59', '$vector': [0.05115976557135582, -0.011944365687668324, -0.01965096779167652, -0.023860914632678032, 0.028514625504612923, 0.0032377317547798157, 0.04313543438911438, -0.008356444537639618, 0.02598402462899685, -0.006351054180413485, -0.04774489626288414, -0.027630381286144257, 0.01821245066821575, -0.023493977263569832, 0.05018218606710434, -0.014437669888138771, 0.0028472032863646746, -0.07755569368600845, 0.005533962976187468, -0.011927198618650436, -0.02861338108778, -0.032272011041641235, 0.006855087820440531, 0.034386150538921356, 0.0009149733232334256, -0.058347322046756744, 0.0029073681216686964, 0.032275889068841934, 0.035625990480184555, -0.029938209801912308, 0.05574408173561096, 0.030928201973438263, -0.0296324510127306, -0.0103415846824646, -0.02014382928609848, -0.02410665526986122, 0.05599628761410713, 0.009638849645853043, -0.0117245614528656, -0.0016824547201395035, -0.005321970209479332, -0.02081453800201416, -0.03902450576424599, -0.03916050121188164, 0.029360536485910416, -0.014355989173054695, 0.024018634110689163, 0.030043691396713257, 0.011263709515333176, -0.04052608832716942, -0.028397664427757263, -0.0050512636080384254, -0.011777527630329132, -0.030595067888498306, -0.013720739632844925, 0.008555816486477852, 0.02339194528758526, 0.011664505116641521, -0.013270656578242779, -0.0011324364459142089, -0.009813178330659866, 0.04782024398446083, 0.005337372422218323, -0.005476626567542553, 0.0033345697447657585, -0.021924374625086784, 0.007146459072828293, 0.01416686549782753, -0.0009254917385987937, 0.005477951839566231, 0.003428202820941806, -0.0026887734420597553, -0.0023057721555233, -0.005322862416505814, -0.0042344676330685616, -0.027638349682092667, -0.045336995273828506, -0.006867632735520601, -0.03885916993021965, -0.03899916261434555, -0.011035698466002941, 0.014891467057168484, -0.003997653257101774, -0.022894540801644325, -0.026798531413078308, 0.044045835733413696, 0.012709035538136959, -0.015867985785007477, -0.03328053280711174, -0.017190584912896156, 0.01208698470145464, 0.008415781892836094, 0.028579959645867348, -0.010176535695791245, -0.0028554359450936317, -0.015340147539973259, -0.010234961286187172, -0.013840533792972565, -0.010250958614051342, 0.028727035969495773], 'title': 'User Profile: gender: female; age_group: Young Adults (18-24) Destination: Rio de Janeiro (RJ) Flight Price: Medium Hotel Price: Medium Distance: Medium', '$similarity': 0.7463201}, {'_id': '66', '$vector': [0.027591202408075333, -0.008684467524290085, -0.00361177371814847, -0.02706875093281269, 0.005894420202821493, 0.0022575061302632093, 0.014821149408817291, 0.027744373306632042, 0.04530448839068413, 0.006976629141718149, -0.016742710024118423, -0.030748479068279266, 0.017808109521865845, -0.08040385693311691, 0.09523876011371613, -0.01448027603328228, -0.022349711507558823, -0.010587414726614952, -0.011004439555108547, 0.02287392131984234, 0.012203062884509563, -0.0006513998960144818, -0.025856278836727142, 0.0034880489110946655, 0.01761416345834732, -0.0457068607211113, -0.047852858901023865, 0.009610683657228947, 0.03093285858631134, -0.031064249575138092, 0.060224808752536774, -0.012423121370375156, -0.0032131518237292767, -0.01487339474260807, -0.01228941511362791, -0.00045391698949970305, 0.00986319500952959, 0.010567884892225266, 0.00022348537459038198, 0.02737361565232277, -0.012644636444747448, -0.0694928765296936, -0.03453366085886955, -0.005828883033245802, -0.0010344155598431826, -0.039676517248153687, -0.01909744180738926, -0.0024971910752356052, -0.0064503904432058334, -0.010065661743283272, 0.028469180688261986, 0.017947163432836533, -0.00013106105325277895, 0.022395791485905647, -0.04143405705690384, 0.010022965259850025, 0.02780863083899021, 0.025789670646190643, 0.00811654794961214, -0.013600329868495464, 0.02656172588467598, -0.013266016729176044, -0.03459528833627701, 0.018205931410193443, 0.0443534329533577, 0.0068422709591686726, 0.008624376729130745, 0.027846286073327065, -0.006903175264596939, -0.018673427402973175, -0.00691263098269701, 0.008139180950820446, 0.021264849230647087, 0.0023619558196514845, 0.00023489996965508908, 0.009562145918607712, -0.02720150165259838, 0.002633599564433098, -0.0432249940931797, -0.057344090193510056, -0.003386912401765585, 0.01029026135802269, -0.0069586546160280704, -0.037847526371479034, -0.05074697360396385, 0.049939051270484924, 0.013082567602396011, -0.003330602776259184, 0.01909146085381508, -0.014873353764414787, 0.015231779776513577, 0.032263994216918945, 0.06014682725071907, -0.014898242428898811, 0.024402251467108727, -0.016794657334685326, -0.015328826382756233, 0.031574878841638565, -0.019277624785900116, -0.015377022325992584], 'title': 'User Profile: gender: female; age_group: Middle-Aged Adults (35-49) Destination: Campo Grande (MS) Flight Price: High Hotel Price: Low Distance: Medium', '$similarity': 0.71322507}, {'_id': '618', '$vector': [0.0001911722356453538, -0.034340184181928635, -0.00926503911614418, 0.002814590698108077, -0.010346755385398865, 0.02193877473473549, -0.009276646189391613, 0.003779994323849678, -0.014607231132686138, 0.015937799587845802, -0.009232643991708755, -0.01744716987013817, 0.013572457246482372, -0.023590251803398132, 0.03394118323922157, 0.03185145556926727, 0.0010901568457484245, 0.0139978788793087, 0.021414944902062416, 0.012648601084947586, -0.03248745575547218, 0.004056946840137243, -0.02167399972677231, 0.0225199107080698, 0.00785590335726738, -0.0286665391176939, -0.02479647658765316, -0.0068961200304329395, 0.03128327801823616, -0.014873848296701908, 0.018163198605179787, 0.02213527448475361, -0.008268088102340698, 0.013951728120446205, -0.013060180470347404, -0.0018035640241578221, 0.011615079827606678, 0.012004622258245945, -0.006744848098605871, 0.015249107033014297, -0.0018987101502716541, -0.011708679609000683, -0.02152210846543312, 0.013407314196228981, -0.01237922627478838, -0.025014592334628105, 0.026533538475632668, 0.021052755415439606, -0.0037510679103434086, -0.029033536091446877, -0.006935683079063892, 0.02019169181585312, -0.01919170469045639, 0.012515624053776264, 0.012231729924678802, -0.03181254118680954, 0.01526261493563652, 0.005136984866112471, -0.03035574220120907, -0.014506767503917217, 0.006125002168118954, 0.01645747758448124, -0.01828640326857567, 0.003976843785494566, 0.01335346419364214, -0.0033651536796242, -2.7539437724044546e-05, 0.016476010903716087, -0.013903426937758923, -0.01860937662422657, -0.030593369156122208, -0.0051316311582922935, -0.0179709754884243, -0.0016979147912934422, -0.01222323253750801, -0.024399660527706146, 0.010583879426121712, 0.030145924538373947, -0.03147651627659798, -0.013931650668382645, -0.016852328553795815, -0.04207198694348335, -0.03942243754863739, 0.003786655142903328, -0.02927543967962265, 0.02339264750480652, -0.03128790110349655, 0.01388599444180727, -0.012754951603710651, -0.03754609823226929, 0.039394836872816086, 0.019420547410845757, -0.0025059357285499573, 0.010958075523376465, 0.00696551101282239, -0.000772375613451004, -0.006195219233632088, -0.01828552596271038, -0.026924679055809975, 0.014778314158320427], 'title': 'User Profile: gender: none; age_group: Middle-Aged Adults (35-49) Destination: Aracaju (SE) Flight Price: Medium Hotel Price: High Distance: Short', '$similarity': 0.6957443}, {'_id': '171', '$vector': [0.009289008565247059, 0.0016658275853842497, -0.004097768105566502, 0.033029209822416306, 0.040752802044153214, -0.004134783986955881, -0.015698151662945747, -0.0017872706521302462, 0.040262188762426376, 0.009337814524769783, -0.027194608002901077, -0.013904313556849957, 0.050472985953092575, -0.019316934049129486, 0.09204000979661942, -0.028729040175676346, 0.045972924679517746, -0.014688428491353989, -0.013926547951996326, -0.03198233246803284, 0.025469107553362846, -0.006592205259948969, -0.005224632564932108, -0.009951351210474968, -0.03402179852128029, -0.03574207052588463, -0.019765717908740044, 0.03612172231078148, -0.0013530361466109753, -0.06478430330753326, 0.05786615237593651, 0.02420298382639885, 0.01599324867129326, 0.0748777836561203, 0.04730194807052612, 0.02219478413462639, -0.012088190764188766, 0.04201940819621086, 0.03515968844294548, -0.009635580703616142, -0.0200776569545269, -0.038050636649131775, -0.004778845235705376, -0.032028261572122574, 0.012910746969282627, -0.035774845629930496, 0.013014622963964939, -0.02925695851445198, -0.010643405839800835, -0.020145945250988007, 0.008920298889279366, 0.0006723692058585584, 0.013358615338802338, 0.0598677322268486, 0.004789596889168024, 0.014348065480589867, 0.047702766954898834, -0.029348099604249, -0.047298118472099304, -0.013756757602095604, -0.013607831671833992, -0.004775436595082283, -0.012083170004189014, 0.0013570229057222605, -0.019262664020061493, -0.00565565237775445, -0.05351996794342995, -0.00026254597469232976, -0.0024256703909486532, -0.046179644763469696, 0.04291914403438568, -0.024898305535316467, -0.035026535391807556, -0.018607813864946365, 0.005742430221289396, -0.023183021694421768, -0.01531896274536848, 0.011357603594660759, -0.011609877459704876, -0.01603398658335209, 0.021066870540380478, -0.02118435688316822, -0.008635496720671654, -0.062491949647665024, -0.06592460721731186, 0.014500344172120094, 0.01460013072937727, 0.015311852097511292, -0.02042514644563198, 0.022190093994140625, -0.04506479203701019, 0.03203537315130234, 0.024342147633433342, -0.015582348220050335, -0.019184095785021782, -0.01822313293814659, 0.046610116958618164, 0.022053826600313187, -0.031853534281253815, 0.024777838960289955], 'title': 'User Profile: gender: female; age_group: Middle-Aged Adults (35-49) Destination: Natal (RN) Flight Price: High Hotel Price: Medium Distance: Medium', '$similarity': 0.694037}, {'_id': '169', '$vector': [0.0563775971531868, 0.01668470725417137, 0.005161466542631388, -0.02822166681289673, 0.017057660967111588, -0.003094805171713233, -0.009136678650975227, -0.019816776737570763, 0.00041884154779836535, 0.0023328575771301985, -0.03138275444507599, -0.031201858073472977, 0.013469761237502098, -0.04221799597144127, 0.11526060104370117, -0.0007724399329163134, -0.005471177864819765, 0.011729381047189236, -0.019515778869390488, 0.001811985857784748, 0.030560070648789406, 0.014173317700624466, -0.020110953599214554, 0.0313645638525486, -0.02844918705523014, -0.05072880908846855, -0.033389151096343994, 0.02050282061100006, -0.022105548530817032, -0.04114626720547676, 0.035260070115327835, 0.02122545801103115, -0.02212519571185112, 0.0020408087875694036, -0.004995518829673529, 0.005825844593346119, 0.02447517402470112, 0.012762481346726418, 0.0035058215726166964, 0.037060774862766266, -0.04884599894285202, -0.04871997982263565, -0.008349907584488392, 0.020966151729226112, -0.00958943460136652, -0.030284639447927475, -0.022066932171583176, -0.009880713187158108, -0.013545524328947067, -0.014026200398802757, 0.02703934721648693, -0.0001316497364314273, -0.002519352361559868, 0.014718244783580303, -0.008621486835181713, 0.022273197770118713, 0.016027214005589485, 0.014974141493439674, -0.004782292991876602, -0.01998818665742874, 0.019211195409297943, -0.007454080041497946, -0.016199622303247452, 0.006359060760587454, 0.020999951288104057, 0.031097743660211563, -0.014430866576731205, 0.022552955895662308, 0.006813699379563332, -0.011106535792350769, -0.02473410777747631, -0.014709747396409512, 0.024224132299423218, 0.007766756694763899, 0.00804601889103651, 0.007854635827243328, -0.04245845600962639, -0.03589719533920288, -0.041813552379608154, -0.04081328585743904, 0.013797289691865444, -0.009869731962680817, 0.00264374865218997, -0.04585510119795799, -0.03637699782848358, 0.026509497314691544, 0.03421241417527199, -0.021382518112659454, 0.030720721930265427, -0.029405316337943077, 0.016651637852191925, 0.022552963346242905, 0.06300840526819229, -0.016821155324578285, -0.013072974979877472, -0.024512188509106636, -0.014172381721436977, 0.005799453239887953, 0.002218604786321521, -0.014806455001235008], 'title': 'User Profile: gender: female; age_group: Pre-Retirement (50-64) Destination: Natal (RN) Flight Price: Medium Hotel Price: Medium Distance: Short', '$similarity': 0.68660855}, {'_id': '64', '$vector': [0.005958051886409521, 0.03252805024385452, -2.938555735454429e-05, 0.01467333734035492, -0.0003121337795164436, -0.025674665346741676, 0.04796510562300682, 0.020563872531056404, -0.004998715594410896, -0.022217126563191414, -0.004528791178017855, -0.036412689834833145, -0.015367778018116951, 0.03294296935200691, -0.026983043178915977, -0.007924561388790607, -0.05497012287378311, -0.022294897586107254, -0.0183978583663702, -0.005063551012426615, 0.0028262902051210403, -0.05679529532790184, 0.01598421484231949, 0.04084589704871178, -0.03467242792248726, 0.013393919914960861, 0.004060530103743076, 0.0538802407681942, -0.03298759460449219, -0.047963134944438934, 0.03733875975012779, -0.0060980841517448425, 0.0022823610343039036, -0.0006514121778309345, -0.02915288880467415, 0.0054663666523993015, 0.039652418345212936, 0.023112747818231583, -0.05353450030088425, -0.01998760737478733, -0.015810826793313026, -0.020989887416362762, -0.022936295717954636, -0.046555981040000916, -0.006288847886025906, 0.012735158205032349, -0.04319050908088684, -0.020769601687788963, -0.05181273818016052, 0.023340187966823578, -0.011768018826842308, -0.006649111397564411, -0.039149265736341476, -0.06188578903675079, -0.028793975710868835, 0.06544148176908493, 0.010608834214508533, 0.04544146731495857, 0.00501366937533021, -0.008992022834718227, -0.01583605818450451, -0.005274774506688118, 0.03463359177112579, -0.03480159118771553, -0.03164074942469597, -0.010873297229409218, 0.04865129664540291, 0.0020316734444350004, 0.024316133931279182, -0.006909396965056658, 0.02541354112327099, -0.007548097986727953, 0.024232469499111176, 0.052382297813892365, 0.014081746339797974, 0.008884204551577568, 0.008141474798321724, -0.011819845996797085, 0.00598442368209362, -0.038309574127197266, 0.037021104246377945, 0.03905630111694336, 0.0006369796465151012, -0.0009725667187012732, 0.040339455008506775, -0.003222861560061574, 0.018433749675750732, -0.043964553624391556, -0.0001976862404262647, -0.023206016048789024, 0.005023210775107145, -0.05100284144282341, -0.004243209958076477, -0.01683918572962284, 0.04162002354860306, -0.0029670337680727243, 0.0013362453319132328, -0.00011056104267481714, -0.01225961558520794, 0.003091964405030012], 'title': 'User Profile: gender: female; age_group: Middle-Aged Adults (35-49) Destination: Rio de Janeiro (RJ) Flight Price: Medium Hotel Price: High Distance: Medium', '$similarity': 0.64922714}, {'_id': '370', '$vector': [0.021369569003582, 0.04975208640098572, -0.03610770031809807, -0.021857041865587234, -0.02683001197874546, -0.0012537318980321288, 0.00800926424562931, -0.013180610723793507, 0.0035038022324442863, -0.013957629911601543, -0.02180132083594799, -0.0058333673514425755, 0.009662507101893425, -0.030077487230300903, 0.06162514537572861, -0.003205983666703105, -0.048057496547698975, -0.021669408306479454, -0.00014460085367318243, 0.03151746839284897, 0.027454355731606483, 0.008890816010534763, -0.023581160232424736, 0.009361926466226578, 0.009493691846728325, -0.016133397817611694, 0.005281040444970131, 0.048808034509420395, -0.018483269959688187, -0.07219010591506958, 0.04735034331679344, -0.0010815456043928862, -0.015019011683762074, 0.03492022305727005, -0.0402689203619957, -0.017446691170334816, 0.003646124852821231, 0.00010178352385992184, -0.005444145295768976, 0.013640953227877617, -0.006119925994426012, -0.008455857634544373, -0.0342901237308979, -0.010465186089277267, 0.004663535859435797, -0.040153611451387405, -0.018374454230070114, -0.01789369061589241, -0.01273391768336296, 0.0255939532071352, 0.0006098299054428935, -0.034836068749427795, -0.0037895203568041325, -0.012653887271881104, -0.03527721017599106, 0.04697491601109505, 0.01544168684631586, -0.009310933761298656, 0.002217857399955392, -0.01800725609064102, -0.004606862086802721, 0.030616208910942078, 0.014696510508656502, -0.013335425406694412, 0.04864520579576492, 0.023426588624715805, 0.0037917206063866615, 0.03458080813288689, 0.0035855991300195456, -0.0066284313797950745, 0.011202584952116013, -0.05036507174372673, 0.03408214822411537, 0.0197101142257452, 0.0018007339676842093, 0.016929669305682182, -0.03885404393076897, -0.01310533657670021, -0.008812494575977325, -0.02022436074912548, 0.0018906162586063147, -0.001529888715595007, 0.014436705969274044, -0.024464016780257225, -0.03019544668495655, 0.034646861255168915, 0.042526975274086, 0.004188925959169865, 0.062414027750492096, -0.0009723328985273838, 0.015519071370363235, 0.028884178027510643, 0.02503138966858387, -0.041388820856809616, 0.02779172547161579, -0.008976394310593605, -0.017135869711637497, 0.002591203898191452, -0.04076800495386124, -0.017107518389821053], 'title': 'User Profile: gender: female; age_group: Middle-Aged Adults (35-49) Destination: Campo Grande (MS) Flight Price: Medium Hotel Price: Low Distance: Medium', '$similarity': 0.6483395}, {'_id': '595', '$vector': [0.025834206491708755, -0.011971795000135899, -0.006231172941625118, -0.011095201596617699, 0.0027173873968422413, -0.004003135487437248, -0.02018902078270912, -0.021533379331231117, -0.002696753479540348, 0.01359638199210167, -0.014002082869410515, 0.002956338692456484, 0.018380731344223022, -0.029384365305304527, 0.07893374562263489, -0.013198073022067547, 0.045197807252407074, 0.011774227023124695, 0.03066089190542698, -0.02121598832309246, -0.016613269224762917, 0.04016090929508209, -0.009654078632593155, 0.017426930367946625, -0.01293895486742258, -0.05902092903852463, 0.01588958501815796, 0.0196161437779665, 0.007868431508541107, 0.008997350931167603, -0.01109393686056137, 0.037807684391736984, -0.027145827189087868, 0.013669230043888092, -0.02382054179906845, -0.025283481925725937, 0.028331907466053963, 0.019243402406573296, 0.00971708819270134, 0.016453949734568596, -0.03415923938155174, -0.03818771615624428, -0.004065014887601137, 0.0273049958050251, -0.01429600641131401, -0.008519007824361324, 0.05743015557527542, 0.009382409043610096, 0.01693836972117424, -0.053360793739557266, -0.03690437972545624, 0.011936483904719353, 0.0025110156275331974, 0.008510871790349483, 0.023798735812306404, -0.054402828216552734, 0.014802233316004276, 0.0004310238582547754, -0.061034590005874634, -0.0004784911288879812, 0.0015991583932191133, 0.03923515975475311, -0.0016958880005404353, 0.012732851319015026, -0.0026383043732494116, 0.011304876767098904, -0.05238199606537819, 0.04847658798098564, -0.003859010525047779, 0.0140938526019454, -0.03852178901433945, -0.012345862574875355, -0.025681760162115097, -0.04864818975329399, -0.010635037906467915, -0.03444678708910942, -0.01663113757967949, -0.02140839211642742, -0.019583743065595627, -0.0018219626508653164, -0.02972700446844101, -0.05304932966828346, -0.030017226934432983, -0.017968537285923958, -0.04265523701906204, 0.04737073555588722, -0.007794709410518408, 0.005097034387290478, -0.025716528296470642, 0.000738658825866878, 0.020493242889642715, 0.03161856159567833, 0.012567931786179543, 0.020859863609075546, 0.007648873142898083, -0.0029241431038826704, -0.03967830166220665, -0.017321640625596046, -0.007367170415818691, 0.008039513602852821], 'title': 'User Profile: gender: female; age_group: Middle-Aged Adults (35-49) Destination: Aracaju (SE) Flight Price: Medium Hotel Price: High Distance: Short', '$similarity': 0.64601344}]\n",
            "id=26 | product_title=User Profile: gender: female; age_group: Middle-Aged Adults (35-49) Destination: Rio de Janeiro (RJ) Flight Price: Medium Hotel Price: Medium Distance: Medium | similarity=1.0\n",
            "id=24 | product_title=User Profile: gender: female; age_group: Middle-Aged Adults (35-49) Destination: Florianopolis (SC) Flight Price: High Hotel Price: High Distance: Long | similarity=0.8476813\n",
            "id=59 | product_title=User Profile: gender: female; age_group: Young Adults (18-24) Destination: Rio de Janeiro (RJ) Flight Price: Medium Hotel Price: Medium Distance: Medium | similarity=0.7463201\n",
            "id=66 | product_title=User Profile: gender: female; age_group: Middle-Aged Adults (35-49) Destination: Campo Grande (MS) Flight Price: High Hotel Price: Low Distance: Medium | similarity=0.71322507\n",
            "id=618 | product_title=User Profile: gender: none; age_group: Middle-Aged Adults (35-49) Destination: Aracaju (SE) Flight Price: Medium Hotel Price: High Distance: Short | similarity=0.6957443\n",
            "id=171 | product_title=User Profile: gender: female; age_group: Middle-Aged Adults (35-49) Destination: Natal (RN) Flight Price: High Hotel Price: Medium Distance: Medium | similarity=0.694037\n",
            "id=169 | product_title=User Profile: gender: female; age_group: Pre-Retirement (50-64) Destination: Natal (RN) Flight Price: Medium Hotel Price: Medium Distance: Short | similarity=0.68660855\n",
            "id=64 | product_title=User Profile: gender: female; age_group: Middle-Aged Adults (35-49) Destination: Rio de Janeiro (RJ) Flight Price: Medium Hotel Price: High Distance: Medium | similarity=0.64922714\n",
            "id=370 | product_title=User Profile: gender: female; age_group: Middle-Aged Adults (35-49) Destination: Campo Grande (MS) Flight Price: Medium Hotel Price: Low Distance: Medium | similarity=0.6483395\n",
            "id=595 | product_title=User Profile: gender: female; age_group: Middle-Aged Adults (35-49) Destination: Aracaju (SE) Flight Price: Medium Hotel Price: High Distance: Short | similarity=0.64601344\n",
            "\r\n"
          ]
        }
      ]
    },
    {
      "cell_type": "markdown",
      "metadata": {
        "id": "FXywcRrYt5HM"
      },
      "source": [
        "# Project Summary\n",
        "\n",
        "This notebook details the creation of a trip similarity search system using AstraDB and vector embeddings from OpenAI. Our objective is to enhance the travel planning experience by enabling users to find trips that closely match their preferences or past travel experiences. In this example we used [AstraDB](https://astra.datastax.com/) to build and deploy a product recommendation engine that uses vector search, relatively quickly.\n",
        "\n",
        "## Key Components:\n",
        "- **Vector Embeddings**: Utilizing OpenAI's advanced models, we generate embeddings from travel data obtained from the Kaggle Travel Dataset (argodatathon2019). These embeddings capture the essential features of each trip.\n",
        "  \n",
        "- **AstraDB Configuration**: We set up and configure AstraDB to store and efficiently retrieve these embeddings, leveraging its robust vector database capabilities to facilitate fast and scalable similarity searches.\n",
        "\n",
        "- **Data Management**: The notebook guides through the process of inserting and managing travel data within AstraDB, ensuring data integrity and accessibility.\n",
        "\n",
        "- **Similarity Searches**: We implement several search functionalities, demonstrating the system's capability to find similar trips based on user profiles, specific trip attributes, and natural language descriptions.\n",
        "\n",
        "- **User Interface Integration**: The final step involves creating a user-friendly interface that allows travelers to interact with the system, inputting their preferences and receiving personalized trip recommendations.\n",
        "\n",
        "This project aims to showcase how vector databases and AI-driven embeddings can revolutionize the way we approach personalized travel recommendations, making the process more intuitive and user-centric.\n",
        "\n"
      ]
    }
  ],
  "metadata": {
    "colab": {
      "provenance": [],
      "include_colab_link": true
    },
    "kernelspec": {
      "display_name": "base",
      "language": "python",
      "name": "python3"
    },
    "language_info": {
      "codemirror_mode": {
        "name": "ipython",
        "version": 3
      },
      "file_extension": ".py",
      "mimetype": "text/x-python",
      "name": "python",
      "nbconvert_exporter": "python",
      "pygments_lexer": "ipython3",
      "version": "3.8.16"
    },
    "vscode": {
      "interpreter": {
        "hash": "5fe10bf018ef3e697f9035d60bf60847932a12bface18908407fd371fe880db9"
      }
    },
    "widgets": {
      "application/vnd.jupyter.widget-state+json": {
        "64eedd0b48134cb1b65598a9be89652c": {
          "model_module": "@jupyter-widgets/controls",
          "model_name": "HBoxModel",
          "model_module_version": "1.5.0",
          "state": {
            "_dom_classes": [],
            "_model_module": "@jupyter-widgets/controls",
            "_model_module_version": "1.5.0",
            "_model_name": "HBoxModel",
            "_view_count": null,
            "_view_module": "@jupyter-widgets/controls",
            "_view_module_version": "1.5.0",
            "_view_name": "HBoxView",
            "box_style": "",
            "children": [
              "IPY_MODEL_b67756e016cc46e280b4e4874cf35405",
              "IPY_MODEL_9ea743d0405943b383750e4e25e15a91",
              "IPY_MODEL_d95b782cc5894ff8a5a2a47cdb23c3a6"
            ],
            "layout": "IPY_MODEL_6c7c88894ea5464998fc98bcc985b356"
          }
        },
        "b67756e016cc46e280b4e4874cf35405": {
          "model_module": "@jupyter-widgets/controls",
          "model_name": "HTMLModel",
          "model_module_version": "1.5.0",
          "state": {
            "_dom_classes": [],
            "_model_module": "@jupyter-widgets/controls",
            "_model_module_version": "1.5.0",
            "_model_name": "HTMLModel",
            "_view_count": null,
            "_view_module": "@jupyter-widgets/controls",
            "_view_module_version": "1.5.0",
            "_view_name": "HTMLView",
            "description": "",
            "description_tooltip": null,
            "layout": "IPY_MODEL_6ffacc235c8a49c1b3eb7d2dd1cc4748",
            "placeholder": "​",
            "style": "IPY_MODEL_a5aa3fa92d814e01b51d36ea78577906",
            "value": "100%"
          }
        },
        "9ea743d0405943b383750e4e25e15a91": {
          "model_module": "@jupyter-widgets/controls",
          "model_name": "FloatProgressModel",
          "model_module_version": "1.5.0",
          "state": {
            "_dom_classes": [],
            "_model_module": "@jupyter-widgets/controls",
            "_model_module_version": "1.5.0",
            "_model_name": "FloatProgressModel",
            "_view_count": null,
            "_view_module": "@jupyter-widgets/controls",
            "_view_module_version": "1.5.0",
            "_view_name": "ProgressView",
            "bar_style": "success",
            "description": "",
            "description_tooltip": null,
            "layout": "IPY_MODEL_4bee4c94ae634a109af4d6d56e7bc9e6",
            "max": 50,
            "min": 0,
            "orientation": "horizontal",
            "style": "IPY_MODEL_b2eb75d3ba8547e4b545e87d1f046c9c",
            "value": 50
          }
        },
        "d95b782cc5894ff8a5a2a47cdb23c3a6": {
          "model_module": "@jupyter-widgets/controls",
          "model_name": "HTMLModel",
          "model_module_version": "1.5.0",
          "state": {
            "_dom_classes": [],
            "_model_module": "@jupyter-widgets/controls",
            "_model_module_version": "1.5.0",
            "_model_name": "HTMLModel",
            "_view_count": null,
            "_view_module": "@jupyter-widgets/controls",
            "_view_module_version": "1.5.0",
            "_view_name": "HTMLView",
            "description": "",
            "description_tooltip": null,
            "layout": "IPY_MODEL_1de3948e8714464c9cc467a3ef9acc6f",
            "placeholder": "​",
            "style": "IPY_MODEL_b7d72d98368440a48acafa64b210b5a2",
            "value": " 50/50 [00:03&lt;00:00, 13.13it/s]"
          }
        },
        "6c7c88894ea5464998fc98bcc985b356": {
          "model_module": "@jupyter-widgets/base",
          "model_name": "LayoutModel",
          "model_module_version": "1.2.0",
          "state": {
            "_model_module": "@jupyter-widgets/base",
            "_model_module_version": "1.2.0",
            "_model_name": "LayoutModel",
            "_view_count": null,
            "_view_module": "@jupyter-widgets/base",
            "_view_module_version": "1.2.0",
            "_view_name": "LayoutView",
            "align_content": null,
            "align_items": null,
            "align_self": null,
            "border": null,
            "bottom": null,
            "display": null,
            "flex": null,
            "flex_flow": null,
            "grid_area": null,
            "grid_auto_columns": null,
            "grid_auto_flow": null,
            "grid_auto_rows": null,
            "grid_column": null,
            "grid_gap": null,
            "grid_row": null,
            "grid_template_areas": null,
            "grid_template_columns": null,
            "grid_template_rows": null,
            "height": null,
            "justify_content": null,
            "justify_items": null,
            "left": null,
            "margin": null,
            "max_height": null,
            "max_width": null,
            "min_height": null,
            "min_width": null,
            "object_fit": null,
            "object_position": null,
            "order": null,
            "overflow": null,
            "overflow_x": null,
            "overflow_y": null,
            "padding": null,
            "right": null,
            "top": null,
            "visibility": null,
            "width": null
          }
        },
        "6ffacc235c8a49c1b3eb7d2dd1cc4748": {
          "model_module": "@jupyter-widgets/base",
          "model_name": "LayoutModel",
          "model_module_version": "1.2.0",
          "state": {
            "_model_module": "@jupyter-widgets/base",
            "_model_module_version": "1.2.0",
            "_model_name": "LayoutModel",
            "_view_count": null,
            "_view_module": "@jupyter-widgets/base",
            "_view_module_version": "1.2.0",
            "_view_name": "LayoutView",
            "align_content": null,
            "align_items": null,
            "align_self": null,
            "border": null,
            "bottom": null,
            "display": null,
            "flex": null,
            "flex_flow": null,
            "grid_area": null,
            "grid_auto_columns": null,
            "grid_auto_flow": null,
            "grid_auto_rows": null,
            "grid_column": null,
            "grid_gap": null,
            "grid_row": null,
            "grid_template_areas": null,
            "grid_template_columns": null,
            "grid_template_rows": null,
            "height": null,
            "justify_content": null,
            "justify_items": null,
            "left": null,
            "margin": null,
            "max_height": null,
            "max_width": null,
            "min_height": null,
            "min_width": null,
            "object_fit": null,
            "object_position": null,
            "order": null,
            "overflow": null,
            "overflow_x": null,
            "overflow_y": null,
            "padding": null,
            "right": null,
            "top": null,
            "visibility": null,
            "width": null
          }
        },
        "a5aa3fa92d814e01b51d36ea78577906": {
          "model_module": "@jupyter-widgets/controls",
          "model_name": "DescriptionStyleModel",
          "model_module_version": "1.5.0",
          "state": {
            "_model_module": "@jupyter-widgets/controls",
            "_model_module_version": "1.5.0",
            "_model_name": "DescriptionStyleModel",
            "_view_count": null,
            "_view_module": "@jupyter-widgets/base",
            "_view_module_version": "1.2.0",
            "_view_name": "StyleView",
            "description_width": ""
          }
        },
        "4bee4c94ae634a109af4d6d56e7bc9e6": {
          "model_module": "@jupyter-widgets/base",
          "model_name": "LayoutModel",
          "model_module_version": "1.2.0",
          "state": {
            "_model_module": "@jupyter-widgets/base",
            "_model_module_version": "1.2.0",
            "_model_name": "LayoutModel",
            "_view_count": null,
            "_view_module": "@jupyter-widgets/base",
            "_view_module_version": "1.2.0",
            "_view_name": "LayoutView",
            "align_content": null,
            "align_items": null,
            "align_self": null,
            "border": null,
            "bottom": null,
            "display": null,
            "flex": null,
            "flex_flow": null,
            "grid_area": null,
            "grid_auto_columns": null,
            "grid_auto_flow": null,
            "grid_auto_rows": null,
            "grid_column": null,
            "grid_gap": null,
            "grid_row": null,
            "grid_template_areas": null,
            "grid_template_columns": null,
            "grid_template_rows": null,
            "height": null,
            "justify_content": null,
            "justify_items": null,
            "left": null,
            "margin": null,
            "max_height": null,
            "max_width": null,
            "min_height": null,
            "min_width": null,
            "object_fit": null,
            "object_position": null,
            "order": null,
            "overflow": null,
            "overflow_x": null,
            "overflow_y": null,
            "padding": null,
            "right": null,
            "top": null,
            "visibility": null,
            "width": null
          }
        },
        "b2eb75d3ba8547e4b545e87d1f046c9c": {
          "model_module": "@jupyter-widgets/controls",
          "model_name": "ProgressStyleModel",
          "model_module_version": "1.5.0",
          "state": {
            "_model_module": "@jupyter-widgets/controls",
            "_model_module_version": "1.5.0",
            "_model_name": "ProgressStyleModel",
            "_view_count": null,
            "_view_module": "@jupyter-widgets/base",
            "_view_module_version": "1.2.0",
            "_view_name": "StyleView",
            "bar_color": null,
            "description_width": ""
          }
        },
        "1de3948e8714464c9cc467a3ef9acc6f": {
          "model_module": "@jupyter-widgets/base",
          "model_name": "LayoutModel",
          "model_module_version": "1.2.0",
          "state": {
            "_model_module": "@jupyter-widgets/base",
            "_model_module_version": "1.2.0",
            "_model_name": "LayoutModel",
            "_view_count": null,
            "_view_module": "@jupyter-widgets/base",
            "_view_module_version": "1.2.0",
            "_view_name": "LayoutView",
            "align_content": null,
            "align_items": null,
            "align_self": null,
            "border": null,
            "bottom": null,
            "display": null,
            "flex": null,
            "flex_flow": null,
            "grid_area": null,
            "grid_auto_columns": null,
            "grid_auto_flow": null,
            "grid_auto_rows": null,
            "grid_column": null,
            "grid_gap": null,
            "grid_row": null,
            "grid_template_areas": null,
            "grid_template_columns": null,
            "grid_template_rows": null,
            "height": null,
            "justify_content": null,
            "justify_items": null,
            "left": null,
            "margin": null,
            "max_height": null,
            "max_width": null,
            "min_height": null,
            "min_width": null,
            "object_fit": null,
            "object_position": null,
            "order": null,
            "overflow": null,
            "overflow_x": null,
            "overflow_y": null,
            "padding": null,
            "right": null,
            "top": null,
            "visibility": null,
            "width": null
          }
        },
        "b7d72d98368440a48acafa64b210b5a2": {
          "model_module": "@jupyter-widgets/controls",
          "model_name": "DescriptionStyleModel",
          "model_module_version": "1.5.0",
          "state": {
            "_model_module": "@jupyter-widgets/controls",
            "_model_module_version": "1.5.0",
            "_model_name": "DescriptionStyleModel",
            "_view_count": null,
            "_view_module": "@jupyter-widgets/base",
            "_view_module_version": "1.2.0",
            "_view_name": "StyleView",
            "description_width": ""
          }
        },
        "9e977820d35b4e77b9a7dfb2594fb7b3": {
          "model_module": "@jupyter-widgets/controls",
          "model_name": "HBoxModel",
          "model_module_version": "1.5.0",
          "state": {
            "_dom_classes": [],
            "_model_module": "@jupyter-widgets/controls",
            "_model_module_version": "1.5.0",
            "_model_name": "HBoxModel",
            "_view_count": null,
            "_view_module": "@jupyter-widgets/controls",
            "_view_module_version": "1.5.0",
            "_view_name": "HBoxView",
            "box_style": "",
            "children": [
              "IPY_MODEL_749cae49f29b4d82925dfa428abae427",
              "IPY_MODEL_9a45eea6c510494b8c15d3d3b859dd09",
              "IPY_MODEL_69468b30fcf54a77b05abc9959768949"
            ],
            "layout": "IPY_MODEL_7f5bc276100f42c28292b80e350f8357"
          }
        },
        "749cae49f29b4d82925dfa428abae427": {
          "model_module": "@jupyter-widgets/controls",
          "model_name": "HTMLModel",
          "model_module_version": "1.5.0",
          "state": {
            "_dom_classes": [],
            "_model_module": "@jupyter-widgets/controls",
            "_model_module_version": "1.5.0",
            "_model_name": "HTMLModel",
            "_view_count": null,
            "_view_module": "@jupyter-widgets/controls",
            "_view_module_version": "1.5.0",
            "_view_name": "HTMLView",
            "description": "",
            "description_tooltip": null,
            "layout": "IPY_MODEL_d641a2421da64bb2a71af77b475533ff",
            "placeholder": "​",
            "style": "IPY_MODEL_a27b21af6a084b28958c365812221a6d",
            "value": "100%"
          }
        },
        "9a45eea6c510494b8c15d3d3b859dd09": {
          "model_module": "@jupyter-widgets/controls",
          "model_name": "FloatProgressModel",
          "model_module_version": "1.5.0",
          "state": {
            "_dom_classes": [],
            "_model_module": "@jupyter-widgets/controls",
            "_model_module_version": "1.5.0",
            "_model_name": "FloatProgressModel",
            "_view_count": null,
            "_view_module": "@jupyter-widgets/controls",
            "_view_module_version": "1.5.0",
            "_view_name": "ProgressView",
            "bar_style": "success",
            "description": "",
            "description_tooltip": null,
            "layout": "IPY_MODEL_7a1f99f0669542c185dbe7ef8cffa3af",
            "max": 939,
            "min": 0,
            "orientation": "horizontal",
            "style": "IPY_MODEL_f2f4869ea05a4b9099dc049078750bc5",
            "value": 939
          }
        },
        "69468b30fcf54a77b05abc9959768949": {
          "model_module": "@jupyter-widgets/controls",
          "model_name": "HTMLModel",
          "model_module_version": "1.5.0",
          "state": {
            "_dom_classes": [],
            "_model_module": "@jupyter-widgets/controls",
            "_model_module_version": "1.5.0",
            "_model_name": "HTMLModel",
            "_view_count": null,
            "_view_module": "@jupyter-widgets/controls",
            "_view_module_version": "1.5.0",
            "_view_name": "HTMLView",
            "description": "",
            "description_tooltip": null,
            "layout": "IPY_MODEL_d2012ba975364d3eaf6e609b3b9be1ea",
            "placeholder": "​",
            "style": "IPY_MODEL_dfec748746e1469a9bbd00a6065aba6f",
            "value": " 939/939 [00:00&lt;00:00, 3685.06it/s]"
          }
        },
        "7f5bc276100f42c28292b80e350f8357": {
          "model_module": "@jupyter-widgets/base",
          "model_name": "LayoutModel",
          "model_module_version": "1.2.0",
          "state": {
            "_model_module": "@jupyter-widgets/base",
            "_model_module_version": "1.2.0",
            "_model_name": "LayoutModel",
            "_view_count": null,
            "_view_module": "@jupyter-widgets/base",
            "_view_module_version": "1.2.0",
            "_view_name": "LayoutView",
            "align_content": null,
            "align_items": null,
            "align_self": null,
            "border": null,
            "bottom": null,
            "display": null,
            "flex": null,
            "flex_flow": null,
            "grid_area": null,
            "grid_auto_columns": null,
            "grid_auto_flow": null,
            "grid_auto_rows": null,
            "grid_column": null,
            "grid_gap": null,
            "grid_row": null,
            "grid_template_areas": null,
            "grid_template_columns": null,
            "grid_template_rows": null,
            "height": null,
            "justify_content": null,
            "justify_items": null,
            "left": null,
            "margin": null,
            "max_height": null,
            "max_width": null,
            "min_height": null,
            "min_width": null,
            "object_fit": null,
            "object_position": null,
            "order": null,
            "overflow": null,
            "overflow_x": null,
            "overflow_y": null,
            "padding": null,
            "right": null,
            "top": null,
            "visibility": null,
            "width": null
          }
        },
        "d641a2421da64bb2a71af77b475533ff": {
          "model_module": "@jupyter-widgets/base",
          "model_name": "LayoutModel",
          "model_module_version": "1.2.0",
          "state": {
            "_model_module": "@jupyter-widgets/base",
            "_model_module_version": "1.2.0",
            "_model_name": "LayoutModel",
            "_view_count": null,
            "_view_module": "@jupyter-widgets/base",
            "_view_module_version": "1.2.0",
            "_view_name": "LayoutView",
            "align_content": null,
            "align_items": null,
            "align_self": null,
            "border": null,
            "bottom": null,
            "display": null,
            "flex": null,
            "flex_flow": null,
            "grid_area": null,
            "grid_auto_columns": null,
            "grid_auto_flow": null,
            "grid_auto_rows": null,
            "grid_column": null,
            "grid_gap": null,
            "grid_row": null,
            "grid_template_areas": null,
            "grid_template_columns": null,
            "grid_template_rows": null,
            "height": null,
            "justify_content": null,
            "justify_items": null,
            "left": null,
            "margin": null,
            "max_height": null,
            "max_width": null,
            "min_height": null,
            "min_width": null,
            "object_fit": null,
            "object_position": null,
            "order": null,
            "overflow": null,
            "overflow_x": null,
            "overflow_y": null,
            "padding": null,
            "right": null,
            "top": null,
            "visibility": null,
            "width": null
          }
        },
        "a27b21af6a084b28958c365812221a6d": {
          "model_module": "@jupyter-widgets/controls",
          "model_name": "DescriptionStyleModel",
          "model_module_version": "1.5.0",
          "state": {
            "_model_module": "@jupyter-widgets/controls",
            "_model_module_version": "1.5.0",
            "_model_name": "DescriptionStyleModel",
            "_view_count": null,
            "_view_module": "@jupyter-widgets/base",
            "_view_module_version": "1.2.0",
            "_view_name": "StyleView",
            "description_width": ""
          }
        },
        "7a1f99f0669542c185dbe7ef8cffa3af": {
          "model_module": "@jupyter-widgets/base",
          "model_name": "LayoutModel",
          "model_module_version": "1.2.0",
          "state": {
            "_model_module": "@jupyter-widgets/base",
            "_model_module_version": "1.2.0",
            "_model_name": "LayoutModel",
            "_view_count": null,
            "_view_module": "@jupyter-widgets/base",
            "_view_module_version": "1.2.0",
            "_view_name": "LayoutView",
            "align_content": null,
            "align_items": null,
            "align_self": null,
            "border": null,
            "bottom": null,
            "display": null,
            "flex": null,
            "flex_flow": null,
            "grid_area": null,
            "grid_auto_columns": null,
            "grid_auto_flow": null,
            "grid_auto_rows": null,
            "grid_column": null,
            "grid_gap": null,
            "grid_row": null,
            "grid_template_areas": null,
            "grid_template_columns": null,
            "grid_template_rows": null,
            "height": null,
            "justify_content": null,
            "justify_items": null,
            "left": null,
            "margin": null,
            "max_height": null,
            "max_width": null,
            "min_height": null,
            "min_width": null,
            "object_fit": null,
            "object_position": null,
            "order": null,
            "overflow": null,
            "overflow_x": null,
            "overflow_y": null,
            "padding": null,
            "right": null,
            "top": null,
            "visibility": null,
            "width": null
          }
        },
        "f2f4869ea05a4b9099dc049078750bc5": {
          "model_module": "@jupyter-widgets/controls",
          "model_name": "ProgressStyleModel",
          "model_module_version": "1.5.0",
          "state": {
            "_model_module": "@jupyter-widgets/controls",
            "_model_module_version": "1.5.0",
            "_model_name": "ProgressStyleModel",
            "_view_count": null,
            "_view_module": "@jupyter-widgets/base",
            "_view_module_version": "1.2.0",
            "_view_name": "StyleView",
            "bar_color": null,
            "description_width": ""
          }
        },
        "d2012ba975364d3eaf6e609b3b9be1ea": {
          "model_module": "@jupyter-widgets/base",
          "model_name": "LayoutModel",
          "model_module_version": "1.2.0",
          "state": {
            "_model_module": "@jupyter-widgets/base",
            "_model_module_version": "1.2.0",
            "_model_name": "LayoutModel",
            "_view_count": null,
            "_view_module": "@jupyter-widgets/base",
            "_view_module_version": "1.2.0",
            "_view_name": "LayoutView",
            "align_content": null,
            "align_items": null,
            "align_self": null,
            "border": null,
            "bottom": null,
            "display": null,
            "flex": null,
            "flex_flow": null,
            "grid_area": null,
            "grid_auto_columns": null,
            "grid_auto_flow": null,
            "grid_auto_rows": null,
            "grid_column": null,
            "grid_gap": null,
            "grid_row": null,
            "grid_template_areas": null,
            "grid_template_columns": null,
            "grid_template_rows": null,
            "height": null,
            "justify_content": null,
            "justify_items": null,
            "left": null,
            "margin": null,
            "max_height": null,
            "max_width": null,
            "min_height": null,
            "min_width": null,
            "object_fit": null,
            "object_position": null,
            "order": null,
            "overflow": null,
            "overflow_x": null,
            "overflow_y": null,
            "padding": null,
            "right": null,
            "top": null,
            "visibility": null,
            "width": null
          }
        },
        "dfec748746e1469a9bbd00a6065aba6f": {
          "model_module": "@jupyter-widgets/controls",
          "model_name": "DescriptionStyleModel",
          "model_module_version": "1.5.0",
          "state": {
            "_model_module": "@jupyter-widgets/controls",
            "_model_module_version": "1.5.0",
            "_model_name": "DescriptionStyleModel",
            "_view_count": null,
            "_view_module": "@jupyter-widgets/base",
            "_view_module_version": "1.2.0",
            "_view_name": "StyleView",
            "description_width": ""
          }
        }
      }
    }
  },
  "nbformat": 4,
  "nbformat_minor": 0
}